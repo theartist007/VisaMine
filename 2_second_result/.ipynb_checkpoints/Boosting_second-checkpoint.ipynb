{
 "cells": [
  {
   "cell_type": "code",
   "execution_count": 8,
   "metadata": {},
   "outputs": [],
   "source": [
    "import pandas as pd\n",
    "from sklearn.model_selection import train_test_split\n",
    "from sklearn.preprocessing import MinMaxScaler\n",
    "from sklearn.preprocessing import LabelEncoder"
   ]
  },
  {
   "cell_type": "markdown",
   "metadata": {},
   "source": [
    "Load cleaned up version of dataset from 2015 to 2018.  Drop geographic information about employer and worksite to reduce dimensionality"
   ]
  },
  {
   "cell_type": "code",
   "execution_count": 9,
   "metadata": {},
   "outputs": [],
   "source": [
    "df = pd.read_pickle('/Users/ml/Desktop/Udacity_ML_Capstone/data/H1B_15-18_second.pickle')\n",
    "df.drop(columns=['EMPLOYER_CITY','JOB_TITLE','EMPLOYER_NAME'], inplace=True)\n",
    "df.drop(columns=['EMPLOYER_STATE','WORKSITE_STATE'], inplace=True)"
   ]
  },
  {
   "cell_type": "markdown",
   "metadata": {},
   "source": [
    "Show first 5 lines of the dataset"
   ]
  },
  {
   "cell_type": "code",
   "execution_count": 10,
   "metadata": {},
   "outputs": [
    {
     "data": {
      "text/html": [
       "<div>\n",
       "<style scoped>\n",
       "    .dataframe tbody tr th:only-of-type {\n",
       "        vertical-align: middle;\n",
       "    }\n",
       "\n",
       "    .dataframe tbody tr th {\n",
       "        vertical-align: top;\n",
       "    }\n",
       "\n",
       "    .dataframe thead th {\n",
       "        text-align: right;\n",
       "    }\n",
       "</style>\n",
       "<table border=\"1\" class=\"dataframe\">\n",
       "  <thead>\n",
       "    <tr style=\"text-align: right;\">\n",
       "      <th></th>\n",
       "      <th>CASE_STATUS</th>\n",
       "      <th>FULL_TIME_POSITION</th>\n",
       "      <th>H1B_DEPENDENT</th>\n",
       "      <th>NAICS_CODE</th>\n",
       "      <th>PREVAILING_WAGE</th>\n",
       "      <th>PW_SOURCE</th>\n",
       "      <th>SOC_CODE</th>\n",
       "      <th>VISA_CLASS</th>\n",
       "      <th>WAGE_UNIT_OF_PAY</th>\n",
       "      <th>WILLFUL_VIOLATOR</th>\n",
       "      <th>WAGE_LOWER_THAN_PW</th>\n",
       "    </tr>\n",
       "  </thead>\n",
       "  <tbody>\n",
       "    <tr>\n",
       "      <th>9</th>\n",
       "      <td>DENIED</td>\n",
       "      <td>N</td>\n",
       "      <td>N</td>\n",
       "      <td>424460</td>\n",
       "      <td>23.962574</td>\n",
       "      <td>Other</td>\n",
       "      <td>13-2011</td>\n",
       "      <td>H-1B</td>\n",
       "      <td>Hour</td>\n",
       "      <td>N</td>\n",
       "      <td>False</td>\n",
       "    </tr>\n",
       "    <tr>\n",
       "      <th>11</th>\n",
       "      <td>DENIED</td>\n",
       "      <td>Y</td>\n",
       "      <td>N</td>\n",
       "      <td>541330</td>\n",
       "      <td>368080.500000</td>\n",
       "      <td>DBA</td>\n",
       "      <td>13-2011</td>\n",
       "      <td>H-1B</td>\n",
       "      <td>Year</td>\n",
       "      <td>N</td>\n",
       "      <td>True</td>\n",
       "    </tr>\n",
       "    <tr>\n",
       "      <th>12</th>\n",
       "      <td>DENIED</td>\n",
       "      <td>Y</td>\n",
       "      <td>Y</td>\n",
       "      <td>541511</td>\n",
       "      <td>71456.694400</td>\n",
       "      <td>OES</td>\n",
       "      <td>15-1021</td>\n",
       "      <td>H-1B</td>\n",
       "      <td>Year</td>\n",
       "      <td>N</td>\n",
       "      <td>True</td>\n",
       "    </tr>\n",
       "    <tr>\n",
       "      <th>37</th>\n",
       "      <td>DENIED</td>\n",
       "      <td>Y</td>\n",
       "      <td>N</td>\n",
       "      <td>541330</td>\n",
       "      <td>21338.000000</td>\n",
       "      <td>OES</td>\n",
       "      <td>15-2041</td>\n",
       "      <td>H-1B</td>\n",
       "      <td>Year</td>\n",
       "      <td>N</td>\n",
       "      <td>False</td>\n",
       "    </tr>\n",
       "    <tr>\n",
       "      <th>55</th>\n",
       "      <td>DENIED</td>\n",
       "      <td>Y</td>\n",
       "      <td>Y</td>\n",
       "      <td>541511</td>\n",
       "      <td>74696.869700</td>\n",
       "      <td>OES</td>\n",
       "      <td>15-1021</td>\n",
       "      <td>H-1B</td>\n",
       "      <td>Year</td>\n",
       "      <td>N</td>\n",
       "      <td>False</td>\n",
       "    </tr>\n",
       "  </tbody>\n",
       "</table>\n",
       "</div>"
      ],
      "text/plain": [
       "   CASE_STATUS FULL_TIME_POSITION H1B_DEPENDENT NAICS_CODE  PREVAILING_WAGE  \\\n",
       "9       DENIED                  N             N     424460        23.962574   \n",
       "11      DENIED                  Y             N     541330    368080.500000   \n",
       "12      DENIED                  Y             Y     541511     71456.694400   \n",
       "37      DENIED                  Y             N     541330     21338.000000   \n",
       "55      DENIED                  Y             Y     541511     74696.869700   \n",
       "\n",
       "   PW_SOURCE SOC_CODE VISA_CLASS WAGE_UNIT_OF_PAY WILLFUL_VIOLATOR  \\\n",
       "9      Other  13-2011       H-1B             Hour                N   \n",
       "11       DBA  13-2011       H-1B             Year                N   \n",
       "12       OES  15-1021       H-1B             Year                N   \n",
       "37       OES  15-2041       H-1B             Year                N   \n",
       "55       OES  15-1021       H-1B             Year                N   \n",
       "\n",
       "    WAGE_LOWER_THAN_PW  \n",
       "9                False  \n",
       "11                True  \n",
       "12                True  \n",
       "37               False  \n",
       "55               False  "
      ]
     },
     "execution_count": 10,
     "metadata": {},
     "output_type": "execute_result"
    }
   ],
   "source": [
    "ones_df = df[df['CASE_STATUS']=='DENIED']\n",
    "zeros_df = df[df['CASE_STATUS']=='CERTIFIED']\n",
    "df = pd.concat([ones_df, zeros_df.sample(frac=0.1, random_state=99)])\n",
    "\n",
    "\n",
    "df.head()"
   ]
  },
  {
   "cell_type": "markdown",
   "metadata": {},
   "source": [
    "We will use column 'CASE_STATUS' as our label.  DENIED will be 1 and CERTIFIED will be 0 after it gets incoded by label_encoder.\n",
    "\n",
    "Normalize PREVAILING_WAGE using minmax scaler since it varies quite a bit."
   ]
  },
  {
   "cell_type": "code",
   "execution_count": 11,
   "metadata": {},
   "outputs": [],
   "source": [
    "scaler = MinMaxScaler()\n",
    "X = df.drop(columns='CASE_STATUS')\n",
    "\n",
    "label_encoder = LabelEncoder()\n",
    "y = label_encoder.fit_transform(df['CASE_STATUS'])\n",
    "\n",
    "X[['PREVAILING_WAGE']] = scaler.fit_transform(X[['PREVAILING_WAGE']])\n",
    "X = pd.get_dummies(X)"
   ]
  },
  {
   "cell_type": "code",
   "execution_count": 12,
   "metadata": {},
   "outputs": [],
   "source": [
    "X_train, X_test, y_train, y_test = train_test_split(X, y, stratify=y, test_size=0.2)"
   ]
  },
  {
   "cell_type": "markdown",
   "metadata": {},
   "source": [
    "Check value counts to verify stratify split"
   ]
  },
  {
   "cell_type": "code",
   "execution_count": 13,
   "metadata": {},
   "outputs": [
    {
     "data": {
      "text/html": [
       "<div>\n",
       "<style scoped>\n",
       "    .dataframe tbody tr th:only-of-type {\n",
       "        vertical-align: middle;\n",
       "    }\n",
       "\n",
       "    .dataframe tbody tr th {\n",
       "        vertical-align: top;\n",
       "    }\n",
       "\n",
       "    .dataframe thead th {\n",
       "        text-align: right;\n",
       "    }\n",
       "</style>\n",
       "<table border=\"1\" class=\"dataframe\">\n",
       "  <thead>\n",
       "    <tr style=\"text-align: right;\">\n",
       "      <th></th>\n",
       "      <th>PREVAILING_WAGE</th>\n",
       "      <th>WAGE_LOWER_THAN_PW</th>\n",
       "      <th>FULL_TIME_POSITION_N</th>\n",
       "      <th>FULL_TIME_POSITION_Y</th>\n",
       "      <th>H1B_DEPENDENT_N</th>\n",
       "      <th>H1B_DEPENDENT_Y</th>\n",
       "      <th>NAICS_CODE_11 MM ACRES ENERGY, LLC</th>\n",
       "      <th>NAICS_CODE_11111</th>\n",
       "      <th>NAICS_CODE_111110</th>\n",
       "      <th>NAICS_CODE_11113</th>\n",
       "      <th>...</th>\n",
       "      <th>VISA_CLASS_H-1B</th>\n",
       "      <th>VISA_CLASS_H-1B1 Chile</th>\n",
       "      <th>VISA_CLASS_H-1B1 Singapore</th>\n",
       "      <th>WAGE_UNIT_OF_PAY_Bi-Weekly</th>\n",
       "      <th>WAGE_UNIT_OF_PAY_Hour</th>\n",
       "      <th>WAGE_UNIT_OF_PAY_Month</th>\n",
       "      <th>WAGE_UNIT_OF_PAY_Week</th>\n",
       "      <th>WAGE_UNIT_OF_PAY_Year</th>\n",
       "      <th>WILLFUL_VIOLATOR_N</th>\n",
       "      <th>WILLFUL_VIOLATOR_Y</th>\n",
       "    </tr>\n",
       "  </thead>\n",
       "  <tbody>\n",
       "    <tr>\n",
       "      <th>294573</th>\n",
       "      <td>0.000048</td>\n",
       "      <td>False</td>\n",
       "      <td>0</td>\n",
       "      <td>1</td>\n",
       "      <td>1</td>\n",
       "      <td>0</td>\n",
       "      <td>0</td>\n",
       "      <td>0</td>\n",
       "      <td>0</td>\n",
       "      <td>0</td>\n",
       "      <td>...</td>\n",
       "      <td>1</td>\n",
       "      <td>0</td>\n",
       "      <td>0</td>\n",
       "      <td>0</td>\n",
       "      <td>0</td>\n",
       "      <td>0</td>\n",
       "      <td>0</td>\n",
       "      <td>1</td>\n",
       "      <td>1</td>\n",
       "      <td>0</td>\n",
       "    </tr>\n",
       "    <tr>\n",
       "      <th>78192</th>\n",
       "      <td>0.000060</td>\n",
       "      <td>False</td>\n",
       "      <td>0</td>\n",
       "      <td>1</td>\n",
       "      <td>0</td>\n",
       "      <td>1</td>\n",
       "      <td>0</td>\n",
       "      <td>0</td>\n",
       "      <td>0</td>\n",
       "      <td>0</td>\n",
       "      <td>...</td>\n",
       "      <td>1</td>\n",
       "      <td>0</td>\n",
       "      <td>0</td>\n",
       "      <td>0</td>\n",
       "      <td>0</td>\n",
       "      <td>0</td>\n",
       "      <td>0</td>\n",
       "      <td>1</td>\n",
       "      <td>1</td>\n",
       "      <td>0</td>\n",
       "    </tr>\n",
       "    <tr>\n",
       "      <th>470214</th>\n",
       "      <td>0.000072</td>\n",
       "      <td>False</td>\n",
       "      <td>0</td>\n",
       "      <td>1</td>\n",
       "      <td>0</td>\n",
       "      <td>1</td>\n",
       "      <td>0</td>\n",
       "      <td>0</td>\n",
       "      <td>0</td>\n",
       "      <td>0</td>\n",
       "      <td>...</td>\n",
       "      <td>1</td>\n",
       "      <td>0</td>\n",
       "      <td>0</td>\n",
       "      <td>0</td>\n",
       "      <td>0</td>\n",
       "      <td>0</td>\n",
       "      <td>0</td>\n",
       "      <td>1</td>\n",
       "      <td>1</td>\n",
       "      <td>0</td>\n",
       "    </tr>\n",
       "    <tr>\n",
       "      <th>286487</th>\n",
       "      <td>0.000106</td>\n",
       "      <td>False</td>\n",
       "      <td>0</td>\n",
       "      <td>1</td>\n",
       "      <td>1</td>\n",
       "      <td>0</td>\n",
       "      <td>0</td>\n",
       "      <td>0</td>\n",
       "      <td>0</td>\n",
       "      <td>0</td>\n",
       "      <td>...</td>\n",
       "      <td>1</td>\n",
       "      <td>0</td>\n",
       "      <td>0</td>\n",
       "      <td>0</td>\n",
       "      <td>0</td>\n",
       "      <td>0</td>\n",
       "      <td>0</td>\n",
       "      <td>1</td>\n",
       "      <td>1</td>\n",
       "      <td>0</td>\n",
       "    </tr>\n",
       "    <tr>\n",
       "      <th>511171</th>\n",
       "      <td>0.000080</td>\n",
       "      <td>False</td>\n",
       "      <td>0</td>\n",
       "      <td>1</td>\n",
       "      <td>0</td>\n",
       "      <td>1</td>\n",
       "      <td>0</td>\n",
       "      <td>0</td>\n",
       "      <td>0</td>\n",
       "      <td>0</td>\n",
       "      <td>...</td>\n",
       "      <td>1</td>\n",
       "      <td>0</td>\n",
       "      <td>0</td>\n",
       "      <td>0</td>\n",
       "      <td>0</td>\n",
       "      <td>0</td>\n",
       "      <td>0</td>\n",
       "      <td>1</td>\n",
       "      <td>1</td>\n",
       "      <td>0</td>\n",
       "    </tr>\n",
       "  </tbody>\n",
       "</table>\n",
       "<p>5 rows × 4838 columns</p>\n",
       "</div>"
      ],
      "text/plain": [
       "        PREVAILING_WAGE  WAGE_LOWER_THAN_PW  FULL_TIME_POSITION_N  \\\n",
       "294573         0.000048               False                     0   \n",
       "78192          0.000060               False                     0   \n",
       "470214         0.000072               False                     0   \n",
       "286487         0.000106               False                     0   \n",
       "511171         0.000080               False                     0   \n",
       "\n",
       "        FULL_TIME_POSITION_Y  H1B_DEPENDENT_N  H1B_DEPENDENT_Y  \\\n",
       "294573                     1                1                0   \n",
       "78192                      1                0                1   \n",
       "470214                     1                0                1   \n",
       "286487                     1                1                0   \n",
       "511171                     1                0                1   \n",
       "\n",
       "        NAICS_CODE_11 MM ACRES ENERGY, LLC  NAICS_CODE_11111  \\\n",
       "294573                                   0                 0   \n",
       "78192                                    0                 0   \n",
       "470214                                   0                 0   \n",
       "286487                                   0                 0   \n",
       "511171                                   0                 0   \n",
       "\n",
       "        NAICS_CODE_111110  NAICS_CODE_11113         ...          \\\n",
       "294573                  0                 0         ...           \n",
       "78192                   0                 0         ...           \n",
       "470214                  0                 0         ...           \n",
       "286487                  0                 0         ...           \n",
       "511171                  0                 0         ...           \n",
       "\n",
       "        VISA_CLASS_H-1B  VISA_CLASS_H-1B1 Chile  VISA_CLASS_H-1B1 Singapore  \\\n",
       "294573                1                       0                           0   \n",
       "78192                 1                       0                           0   \n",
       "470214                1                       0                           0   \n",
       "286487                1                       0                           0   \n",
       "511171                1                       0                           0   \n",
       "\n",
       "        WAGE_UNIT_OF_PAY_Bi-Weekly  WAGE_UNIT_OF_PAY_Hour  \\\n",
       "294573                           0                      0   \n",
       "78192                            0                      0   \n",
       "470214                           0                      0   \n",
       "286487                           0                      0   \n",
       "511171                           0                      0   \n",
       "\n",
       "        WAGE_UNIT_OF_PAY_Month  WAGE_UNIT_OF_PAY_Week  WAGE_UNIT_OF_PAY_Year  \\\n",
       "294573                       0                      0                      1   \n",
       "78192                        0                      0                      1   \n",
       "470214                       0                      0                      1   \n",
       "286487                       0                      0                      1   \n",
       "511171                       0                      0                      1   \n",
       "\n",
       "        WILLFUL_VIOLATOR_N  WILLFUL_VIOLATOR_Y  \n",
       "294573                   1                   0  \n",
       "78192                    1                   0  \n",
       "470214                   1                   0  \n",
       "286487                   1                   0  \n",
       "511171                   1                   0  \n",
       "\n",
       "[5 rows x 4838 columns]"
      ]
     },
     "execution_count": 13,
     "metadata": {},
     "output_type": "execute_result"
    }
   ],
   "source": [
    "X_train.head()"
   ]
  },
  {
   "cell_type": "code",
   "execution_count": 14,
   "metadata": {},
   "outputs": [],
   "source": [
    "# from sklearn.tree import DecisionTreeClassifier\n",
    "# xgb = DecisionTreeClassifier()\n",
    "\n",
    "# X_train_benchmark = X_train[['PREVAILING_WAGE', 'WAGE_RATE_OF_PAY_FROM', 'SOC_CODE','NAICS_CODE', 'PW_UNIT_OF_PAY']]\n",
    "# X_test_benchmark = X_test[['PREVAILING_WAGE', 'WAGE_RATE_OF_PAY_FROM', 'SOC_CODE','NAICS_CODE', 'PW_UNIT_OF_PAY']]\n",
    "# X_train_benchmark['LOW_WAGE'] = X_train_benchmark['WAGE_RATE_OF_PAY_FROM'] < X_train_benchmark['PREVAILING_WAGE']\n",
    "# X_test_benchmark['LOW_WAGE'] = X_test_benchmark['WAGE_RATE_OF_PAY_FROM'] < X_test_benchmark['PREVAILING_WAGE']\n",
    "# X_train_benchmark.drop(columns=['WAGE_RATE_OF_PAY_FROM'], inplace=True)\n",
    "# X_test_benchmark.drop(columns=['WAGE_RATE_OF_PAY_FROM'], inplace=True)\n",
    "# X_train_benchmark = pd.get_dummies(X_train_benchmark)\n",
    "# X_test_benchmark = pd.get_dummies(X_test_benchmark)\n",
    "\n",
    "# xgb.fit(X_train_benchmark, y_train)\n",
    "# print(xgb.feature_importances_)\n",
    "# xgb.score(X_test_benchmark, y_test)"
   ]
  },
  {
   "cell_type": "markdown",
   "metadata": {},
   "source": [
    "Train XGBClassifier and predict using X_test"
   ]
  },
  {
   "cell_type": "code",
   "execution_count": 15,
   "metadata": {},
   "outputs": [
    {
     "name": "stderr",
     "output_type": "stream",
     "text": [
      "/Users/ml/ml_env/lib/python2.7/site-packages/sklearn/preprocessing/label.py:151: DeprecationWarning: The truth value of an empty array is ambiguous. Returning False, but in future this will result in an error. Use `array.size > 0` to check that an array is not empty.\n",
      "  if diff:\n"
     ]
    },
    {
     "name": "stdout",
     "output_type": "stream",
     "text": [
      "0.8613856068743286\n",
      "[0 0 0 ... 0 0 0]\n"
     ]
    },
    {
     "name": "stderr",
     "output_type": "stream",
     "text": [
      "/Users/ml/ml_env/lib/python2.7/site-packages/sklearn/preprocessing/label.py:151: DeprecationWarning: The truth value of an empty array is ambiguous. Returning False, but in future this will result in an error. Use `array.size > 0` to check that an array is not empty.\n",
      "  if diff:\n"
     ]
    }
   ],
   "source": [
    "from xgboost import XGBClassifier\n",
    "xgb = XGBClassifier(random_state=99)\n",
    "\n",
    "xgb.fit(X_train, y_train)\n",
    "# print(xgb.feature_importances_)\n",
    "print(xgb.score(X_test, y_test))\n",
    "xgb_pred = xgb.predict(X_test)\n",
    "print(xgb_pred)\n",
    "# for i in range(len(y_hat)):\n",
    "#     if y_test[i]==1:\n",
    "#         print(\"{}:: {}\".format(y_test[i],y_hat[i]))"
   ]
  },
  {
   "cell_type": "markdown",
   "metadata": {},
   "source": [
    "Train ADABOOST classifier and predict using X_test"
   ]
  },
  {
   "cell_type": "code",
   "execution_count": 16,
   "metadata": {},
   "outputs": [],
   "source": [
    "from sklearn.ensemble import AdaBoostClassifier\n",
    "# from sklearn.feature_extraction.text import CountVectorizer\n",
    "\n",
    "abc = AdaBoostClassifier(random_state=99)\n",
    "# vec = CountVectorizer()\n",
    "# X_train_t = vec.fit_transform(X_train)\n",
    "\n",
    "abc.fit(X_train, y_train)\n",
    "\n",
    "abc_pred = abc.predict(X_test)"
   ]
  },
  {
   "cell_type": "code",
   "execution_count": 17,
   "metadata": {},
   "outputs": [
    {
     "name": "stdout",
     "output_type": "stream",
     "text": [
      "** XGB Classifier Stats (OVERALL testset)\n",
      "             precision    recall  f1-score   support\n",
      "\n",
      "          0       0.86      0.99      0.92     29785\n",
      "          1       0.90      0.35      0.50      7455\n",
      "\n",
      "avg / total       0.87      0.86      0.84     37240\n",
      "\n",
      "** ADABOOST Classifier Stats (OVERALL testset)\n",
      "             precision    recall  f1-score   support\n",
      "\n",
      "          0       0.85      0.99      0.92     29785\n",
      "          1       0.92      0.32      0.47      7455\n",
      "\n",
      "avg / total       0.87      0.86      0.83     37240\n",
      "\n"
     ]
    }
   ],
   "source": [
    "from sklearn.metrics import classification_report, confusion_matrix\n",
    "print(\"** XGB Classifier Stats (OVERALL testset)\")\n",
    "print(classification_report(y_test, xgb_pred))\n",
    "\n",
    "print(\"** ADABOOST Classifier Stats (OVERALL testset)\")\n",
    "print(classification_report(y_test, abc_pred))"
   ]
  },
  {
   "cell_type": "markdown",
   "metadata": {},
   "source": [
    "Output the feature importance vector and sort by importance"
   ]
  },
  {
   "cell_type": "code",
   "execution_count": 18,
   "metadata": {},
   "outputs": [
    {
     "name": "stdout",
     "output_type": "stream",
     "text": [
      "(u'H1B_DEPENDENT_Y', 0.06)\n",
      "('NAICS_CODE_541511', 0.06)\n",
      "(u'PREVAILING_WAGE', 0.04)\n",
      "('SOC_CODE_15-2031', 0.02)\n",
      "('NAICS_CODE_334111', 0.02)\n",
      "('NAICS_CODE_541211', 0.02)\n",
      "('NAICS_CODE_51121', 0.02)\n",
      "('NAICS_CODE_541330', 0.02)\n",
      "(u'WAGE_UNIT_OF_PAY_Year', 0.02)\n",
      "('WAGE_LOWER_THAN_PW', 0.02)\n",
      "('NAICS_CODE_611310', 0.02)\n",
      "(u'NAICS_CODE_CAPGEMINI AMERICA INC', 0.02)\n",
      "('NAICS_CODE_522110', 0.02)\n",
      "('NAICS_CODE_54121', 0.02)\n",
      "(u'PW_SOURCE_SCA', 0.02)\n",
      "('NAICS_CODE_54111', 0.02)\n",
      "('SOC_CODE_19-1042', 0.02)\n",
      "('NAICS_CODE_522320', 0.02)\n",
      "('NAICS_CODE_336111', 0.02)\n",
      "('NAICS_CODE_561310', 0.02)\n",
      "('NAICS_CODE_54151', 0.02)\n",
      "('NAICS_CODE_551112', 0.02)\n",
      "(u'FULL_TIME_POSITION_N', 0.02)\n",
      "(u'NAICS_CODE_ACCENTURE LLP', 0.02)\n",
      "('SOC_CODE_15-1133', 0.02)\n",
      "('SOC_CODE_15-1132', 0.02)\n",
      "('NAICS_CODE_541710', 0.02)\n",
      "('NAICS_CODE_541611', 0.02)\n",
      "('NAICS_CODE_454111', 0.02)\n",
      "('NAICS_CODE_23611', 0.02)\n",
      "('SOC_CODE_15-1199', 0.02)\n",
      "(u'PW_SOURCE_OES', 0.02)\n",
      "('NAICS_CODE_541510', 0.02)\n",
      "('NAICS_CODE_541512', 0.02)\n",
      "('NAICS_CODE_523110', 0.02)\n",
      "('NAICS_CODE_518112', 0.02)\n",
      "('NAICS_CODE_452112', 0.02)\n",
      "('NAICS_CODE_522210', 0.02)\n",
      "('NAICS_CODE_54161', 0.02)\n",
      "(u'VISA_CLASS_H-1B', 0.02)\n",
      "('SOC_CODE_19-1029', 0.02)\n",
      "(u'PW_SOURCE_CBA', 0.02)\n",
      "('SOC_CODE_13-1111', 0.02)\n",
      "('SOC_CODE_15-2041', 0.02)\n",
      "('SOC_CODE_15-1121', 0.02)\n"
     ]
    }
   ],
   "source": [
    "import operator\n",
    "import pickle\n",
    "\n",
    "\n",
    "# print(len(abc.feature_importances_))\n",
    "# print(len(X_train.columns))\n",
    "\n",
    "nonzero_features = {}\n",
    "for i in range(len(abc.feature_importances_)):\n",
    "    if abc.feature_importances_[i] > 0.0:\n",
    "        nonzero_features[list(X_train.columns)[i]] = abc.feature_importances_[i]\n",
    "sorted_result = sorted(nonzero_features.items(), key=operator.itemgetter(1)) \n",
    "for i in range(len(sorted_result)):\n",
    "    print(sorted_result[-(i+1)])\n",
    "with open('/tmp/feature_importances_first_800k_abc.pickle', 'wb') as f:\n",
    "    pickle.dump(sorted_result, f, protocol=pickle.HIGHEST_PROTOCOL)\n",
    "with open('/tmp/feature_importances_first_800k_abc_dict.pickle', 'wb') as f:\n",
    "    pickle.dump(nonzero_features, f, protocol=pickle.HIGHEST_PROTOCOL)"
   ]
  },
  {
   "cell_type": "code",
   "execution_count": 19,
   "metadata": {},
   "outputs": [
    {
     "name": "stdout",
     "output_type": "stream",
     "text": [
      "(u'PREVAILING_WAGE', 0.25304878)\n",
      "('WAGE_LOWER_THAN_PW', 0.08231708)\n",
      "(u'H1B_DEPENDENT_N', 0.06097561)\n",
      "(u'PW_SOURCE_OES', 0.048780486)\n",
      "(u'VISA_CLASS_H-1B', 0.044207316)\n",
      "('NAICS_CODE_611310', 0.038109757)\n",
      "('NAICS_CODE_541511', 0.036585364)\n",
      "(u'WAGE_UNIT_OF_PAY_Month', 0.033536587)\n",
      "(u'WAGE_UNIT_OF_PAY_Year', 0.024390243)\n",
      "(u'NAICS_CODE_CAPGEMINI AMERICA INC', 0.021341464)\n",
      "('SOC_CODE_15-1131', 0.021341464)\n",
      "('NAICS_CODE_541512', 0.018292682)\n",
      "('NAICS_CODE_54151', 0.016768293)\n",
      "(u'PW_SOURCE_Other', 0.016768293)\n",
      "(u'WAGE_UNIT_OF_PAY_Hour', 0.013719512)\n",
      "(u'FULL_TIME_POSITION_N', 0.013719512)\n",
      "('SOC_CODE_15-1132', 0.0121951215)\n",
      "('SOC_CODE_15-1199', 0.0121951215)\n",
      "('NAICS_CODE_51121', 0.010670732)\n",
      "(u'WAGE_UNIT_OF_PAY_Week', 0.010670732)\n",
      "(u'VISA_CLASS_E-3 Australian', 0.010670732)\n",
      "(u'NAICS_CODE_ACCENTURE LLP', 0.009146341)\n",
      "('SOC_CODE_15-2031', 0.0076219514)\n",
      "('SOC_CODE_19-1042', 0.0076219514)\n",
      "('NAICS_CODE_621112', 0.0076219514)\n",
      "('NAICS_CODE_54161', 0.0076219514)\n",
      "(u'PW_SOURCE_SCA', 0.0060975607)\n",
      "('NAICS_CODE_523920', 0.0060975607)\n",
      "('SOC_CODE_15-2041', 0.0060975607)\n",
      "(u'NAICS_CODE_NCS PEARSON, INC.', 0.0060975607)\n",
      "('NAICS_CODE_541211', 0.0045731706)\n",
      "('SOC_CODE_23-1011', 0.0045731706)\n",
      "('SOC_CODE_13-1111', 0.0045731706)\n",
      "('SOC_CODE_29-1069', 0.0045731706)\n",
      "('NAICS_CODE_54111', 0.0045731706)\n",
      "(u'NAICS_CODE_CUMMINS INC.', 0.0045731706)\n",
      "('SOC_CODE_13-1141', 0.0045731706)\n",
      "('SOC_CODE_29-1131', 0.0045731706)\n",
      "('NAICS_CODE_561310', 0.0045731706)\n",
      "('NAICS_CODE_611210', 0.0045731706)\n",
      "('SOC_CODE_19-1029', 0.0045731706)\n",
      "('NAICS_CODE_334220', 0.0045731706)\n",
      "('NAICS_CODE_622110', 0.0045731706)\n",
      "('NAICS_CODE_523110', 0.0045731706)\n",
      "('SOC_CODE_11-1011', 0.0045731706)\n",
      "('SOC_CODE_11-1021', 0.0045731706)\n",
      "('SOC_CODE_15-1121', 0.0045731706)\n",
      "('SOC_CODE_21-1015', 0.0030487804)\n",
      "('NAICS_CODE_621210', 0.0030487804)\n",
      "('SOC_CODE_29-2011', 0.0030487804)\n",
      "('SOC_CODE_25-3099', 0.0030487804)\n",
      "('NAICS_CODE_522110', 0.0030487804)\n",
      "('SOC_CODE_11-2021', 0.0030487804)\n",
      "('NAICS_CODE_54194', 0.0030487804)\n",
      "('NAICS_CODE_334413', 0.0030487804)\n",
      "('NAICS_CODE_334111', 0.0015243902)\n",
      "('NAICS_CODE_54121', 0.0015243902)\n",
      "('SOC_CODE_35-1011', 0.0015243902)\n",
      "('SOC_CODE_25-3021', 0.0015243902)\n",
      "('NAICS_CODE_518112', 0.0015243902)\n",
      "('SOC_CODE_11-9021', 0.0015243902)\n",
      "('SOC_CODE_13-1161', 0.0015243902)\n",
      "(u'PW_SOURCE_DBA', 0.0015243902)\n",
      "('NAICS_CODE_424690', 0.0015243902)\n",
      "('SOC_CODE_15-1134', 0.0015243902)\n",
      "('NAICS_CODE_722511', 0.0015243902)\n",
      "('NAICS_CODE_454111', 0.0015243902)\n",
      "('NAICS_CODE_541711', 0.0015243902)\n",
      "('NAICS_CODE_541618', 0.0015243902)\n",
      "('SOC_CODE_15-1133', 0.0015243902)\n",
      "('NAICS_CODE_541110', 0.0015243902)\n",
      "('NAICS_CODE_621340', 0.0015243902)\n",
      "('NAICS_CODE_511210', 0.0015243902)\n",
      "(u'NAICS_CODE_EXPEDIA, INC.', 0.0015243902)\n",
      "(u'PW_SOURCE_CBA', 0.0015243902)\n",
      "('NAICS_CODE_541940', 0.0015243902)\n",
      "(u'VISA_CLASS_H-1B1 Chile', 0.0015243902)\n"
     ]
    }
   ],
   "source": [
    "nonzero_features = {}\n",
    "for i in range(len(xgb.feature_importances_)):\n",
    "    if xgb.feature_importances_[i] > 0.0:\n",
    "        nonzero_features[list(X_train.columns)[i]] = xgb.feature_importances_[i]\n",
    "sorted_result = sorted(nonzero_features.items(), key=operator.itemgetter(1)) \n",
    "for i in range(len(sorted_result)):\n",
    "    print(sorted_result[-(i+1)])\n",
    "\n",
    "with open('/tmp/feature_importances_first_800k_abc.pickle', 'wb') as f:\n",
    "    pickle.dump(sorted_result, f, protocol=pickle.HIGHEST_PROTOCOL)\n",
    "with open('/tmp/feature_importances_first_800k_abc_dict.pickle', 'wb') as f:\n",
    "    pickle.dump(nonzero_features, f, protocol=pickle.HIGHEST_PROTOCOL)"
   ]
  },
  {
   "cell_type": "markdown",
   "metadata": {},
   "source": [
    "Output the trained model to a pickle file in case we need it in the future"
   ]
  },
  {
   "cell_type": "code",
   "execution_count": 20,
   "metadata": {},
   "outputs": [],
   "source": [
    "from sklearn.externals import joblib\n",
    "import cPickle\n",
    "joblib.dump(abc, 'abc.pkl', compress=9)\n",
    "joblib.dump(xgb, 'xgb.pkl', compress=9)\n",
    "\n",
    "# import cPickle\n",
    "with open('abc_cpickle.pkl', 'wb') as pkl:\n",
    "    cPickle.dump(abc, pkl)\n",
    "with open('xgb_cpickle.pkl', 'wb') as pkl:\n",
    "    cPickle.dump(xgb, pkl)    "
   ]
  },
  {
   "cell_type": "markdown",
   "metadata": {},
   "source": [
    "To load the pre-trained model, run the cell below."
   ]
  },
  {
   "cell_type": "code",
   "execution_count": 21,
   "metadata": {},
   "outputs": [],
   "source": [
    "abc = joblib.load('abc.pkl')\n",
    "xgb = joblib.load('xgb.pkl')\n",
    "\n",
    "# with open('abc_cpickle.pkl', 'rb') as pkl:\n",
    "#     abc = cPickle.load(pkl)\n",
    "# with open('xgb_cpickle.pkl', 'rb') as pkl:\n",
    "#     xgb = cPickle.load(pkl)"
   ]
  },
  {
   "cell_type": "markdown",
   "metadata": {},
   "source": [
    "Evaluate stats for the entire test set"
   ]
  },
  {
   "cell_type": "code",
   "execution_count": 22,
   "metadata": {},
   "outputs": [
    {
     "name": "stdout",
     "output_type": "stream",
     "text": [
      "** XGB Classifier Scores (OVERALL testset)\n",
      "Precision: 0.9012950647532376\n",
      "Recall: 0.3454057679409792\n",
      "Accuracy score: 0.8613856068743286\n",
      "F-1 score: 0.4994181536074477\n",
      "F-beta score with beta=0.5: 0.6818302176560928\n",
      "F-beta score with beta=0.2: 0.8487576064908722\n",
      "Confusion Matrix: \n",
      "[[29503   282]\n",
      " [ 4880  2575]]\n",
      "\n",
      "\n",
      "** AB Classifier Scores (OVERALL testset)\n",
      "Precision: 0.9203747072599532\n",
      "Recall: 0.31629778672032194\n",
      "Accuracy score: 0.8576530612244898\n",
      "F-1 score: 0.4707996406109614\n",
      "F-beta score with beta=0.5: 0.6659888154550077\n",
      "F-beta score with beta=0.2: 0.8573945877910636\n",
      "Confusion Matrix: \n",
      "[[29581   204]\n",
      " [ 5097  2358]]\n"
     ]
    }
   ],
   "source": [
    "from sklearn.metrics import precision_score, recall_score, f1_score, fbeta_score, accuracy_score, confusion_matrix\n",
    "# print(abc_pred)\n",
    "\n",
    "print(\"** XGB Classifier Scores (OVERALL testset)\")\n",
    "print(\"Precision: %s\" % precision_score(y_test, xgb_pred))\n",
    "print(\"Recall: %s\"% recall_score(y_test, xgb_pred))\n",
    "print(\"Accuracy score: %s\"% accuracy_score(y_test, xgb_pred))\n",
    "print(\"F-1 score: %s\"% f1_score(y_test, xgb_pred))\n",
    "print(\"F-beta score with beta=0.5: %s\"% fbeta_score(y_test, xgb_pred, beta=0.5))\n",
    "print(\"F-beta score with beta=0.2: %s\"% fbeta_score(y_test, xgb_pred, beta=0.2))\n",
    "print(\"Confusion Matrix: \\n%s\"% confusion_matrix(y_test, xgb_pred))\n",
    "print(\"\\n\")\n",
    "print(\"** AB Classifier Scores (OVERALL testset)\")\n",
    "print(\"Precision: %s\"% precision_score(y_test, abc_pred))\n",
    "print(\"Recall: %s\"% recall_score(y_test, abc_pred))\n",
    "print(\"Accuracy score: %s\"% accuracy_score(y_test, abc_pred))\n",
    "print(\"F-1 score: %s\"% f1_score(y_test, abc_pred))\n",
    "print(\"F-beta score with beta=0.5: %s\"% fbeta_score(y_test, abc_pred, beta=0.5))\n",
    "print(\"F-beta score with beta=0.2: %s\"% fbeta_score(y_test, abc_pred, beta=0.2))\n",
    "print(\"Confusion Matrix: \\n%s\"% confusion_matrix(y_test, abc_pred))"
   ]
  },
  {
   "cell_type": "code",
   "execution_count": 23,
   "metadata": {},
   "outputs": [
    {
     "name": "stderr",
     "output_type": "stream",
     "text": [
      "/Users/ml/ml_env/lib/python2.7/site-packages/sklearn/preprocessing/label.py:151: DeprecationWarning: The truth value of an empty array is ambiguous. Returning False, but in future this will result in an error. Use `array.size > 0` to check that an array is not empty.\n",
      "  if diff:\n"
     ]
    }
   ],
   "source": [
    "import numpy as np\n",
    "ones_index = y_test.nonzero()\n",
    "x_ones = X_test.iloc[ones_index]\n",
    "y_ones = np.take(y_test, ones_index)[0]\n",
    "\n",
    "xgb_pred_oneonly = xgb.predict(x_ones)\n",
    "abc_pred_oneonly = abc.predict(x_ones)"
   ]
  },
  {
   "cell_type": "markdown",
   "metadata": {},
   "source": [
    "Evaluate stats for testset with label 1 (DENIED cases only)"
   ]
  },
  {
   "cell_type": "code",
   "execution_count": 24,
   "metadata": {},
   "outputs": [
    {
     "name": "stdout",
     "output_type": "stream",
     "text": [
      "** XGB Classifier Scores (Only rows with label DENIED->1)\n",
      "Precision: 1.0\n",
      "Recall: 0.3454057679409792\n",
      "Accuracy score: 0.3454057679409792\n",
      "F-1 score: 0.5134596211365903\n",
      "F-beta score with beta=0.5: 0.725147845677274\n",
      "F-beta score with beta=0.2: 0.9320618126131142\n",
      "Confusion Matrix: \n",
      "[[   0    0]\n",
      " [4880 2575]]\n",
      "\n",
      "\n",
      "** AB Classifier Scores (Only rows with label DENIED->1)\n",
      "Precision: 1.0\n",
      "Recall: 0.31629778672032194\n",
      "Accuracy score: 0.31629778672032194\n",
      "F-1 score: 0.48058697645979825\n",
      "F-beta score with beta=0.5: 0.6981701900870492\n",
      "F-beta score with beta=0.2: 0.9232437316467133\n",
      "Confusion Matrix: \n",
      "[[   0    0]\n",
      " [5097 2358]]\n"
     ]
    }
   ],
   "source": [
    "print(\"** XGB Classifier Scores (Only rows with label DENIED->1)\")\n",
    "print(\"Precision: %s\" % precision_score(y_ones, xgb_pred_oneonly))\n",
    "print(\"Recall: %s\"% recall_score(y_ones, xgb_pred_oneonly))\n",
    "print(\"Accuracy score: %s\"% accuracy_score(y_ones, xgb_pred_oneonly))\n",
    "print(\"F-1 score: %s\"% f1_score(y_ones, xgb_pred_oneonly))\n",
    "print(\"F-beta score with beta=0.5: %s\"% fbeta_score(y_ones, xgb_pred_oneonly, beta=0.5))\n",
    "print(\"F-beta score with beta=0.2: %s\"% fbeta_score(y_ones, xgb_pred_oneonly, beta=0.2))\n",
    "print(\"Confusion Matrix: \\n%s\"% confusion_matrix(y_ones, xgb_pred_oneonly))\n",
    "print(\"\\n\")\n",
    "print(\"** AB Classifier Scores (Only rows with label DENIED->1)\")\n",
    "print(\"Precision: %s\"% precision_score(y_ones, abc_pred_oneonly))\n",
    "print(\"Recall: %s\"% recall_score(y_ones, abc_pred_oneonly))\n",
    "print(\"Accuracy score: %s\"% accuracy_score(y_ones, abc_pred_oneonly))\n",
    "print(\"F-1 score: %s\"% f1_score(y_ones, abc_pred_oneonly))\n",
    "print(\"F-beta score with beta=0.5: %s\"% fbeta_score(y_ones, abc_pred_oneonly, beta=0.5))\n",
    "print(\"F-beta score with beta=0.2: %s\"% fbeta_score(y_ones, abc_pred_oneonly, beta=0.2))\n",
    "print(\"Confusion Matrix: \\n%s\"% confusion_matrix(y_ones, abc_pred_oneonly))"
   ]
  },
  {
   "cell_type": "code",
   "execution_count": 25,
   "metadata": {},
   "outputs": [
    {
     "name": "stderr",
     "output_type": "stream",
     "text": [
      "/Users/ml/ml_env/lib/python2.7/site-packages/sklearn/preprocessing/label.py:151: DeprecationWarning: The truth value of an empty array is ambiguous. Returning False, but in future this will result in an error. Use `array.size > 0` to check that an array is not empty.\n",
      "  if diff:\n"
     ]
    }
   ],
   "source": [
    "zeros_index = np.arange(len(y_test))[(y_test==0)]\n",
    "\n",
    "x_zeros = X_test.iloc[zeros_index]\n",
    "y_zeros = np.take(y_test, zeros_index)\n",
    "xgb_pred_zeroonly = xgb.predict(x_zeros)\n",
    "abc_pred_zeroonly = abc.predict(x_zeros)"
   ]
  },
  {
   "cell_type": "markdown",
   "metadata": {},
   "source": [
    "\n",
    "Evaluate stats for testset with label 0 (CERTIFIED cases only)\n"
   ]
  },
  {
   "cell_type": "code",
   "execution_count": 26,
   "metadata": {},
   "outputs": [
    {
     "name": "stdout",
     "output_type": "stream",
     "text": [
      "** XGB Classifier Scores (Only rows with label CERTIFIED->0)\n",
      "Precision: 0.0\n",
      "Recall: 0.0\n",
      "Accuracy score: 0.9905321470538861\n",
      "F-1 score: 0.0\n",
      "F-beta score with beta=0.5: 0.0\n",
      "F-beta score with beta=0.2: 0.0\n",
      "Confusion Matrix: \n",
      "[[29581   204]\n",
      " [    0     0]]\n",
      "\n",
      "\n",
      "** AB Classifier Scores (Only rows with label CERTIFIED->0)\n",
      "Precision: 0.0\n",
      "Recall: 0.0\n",
      "Accuracy score: 0.9931509148900454\n",
      "F-1 score: 0.0\n",
      "F-beta score with beta=0.5: 0.0\n",
      "F-beta score with beta=0.2: 0.0\n",
      "Confusion Matrix: \n",
      "[[29581   204]\n",
      " [    0     0]]\n"
     ]
    },
    {
     "name": "stderr",
     "output_type": "stream",
     "text": [
      "/Users/ml/ml_env/lib/python2.7/site-packages/sklearn/metrics/classification.py:1137: UndefinedMetricWarning: Recall is ill-defined and being set to 0.0 due to no true samples.\n",
      "  'recall', 'true', average, warn_for)\n",
      "/Users/ml/ml_env/lib/python2.7/site-packages/sklearn/metrics/classification.py:1137: UndefinedMetricWarning: F-score is ill-defined and being set to 0.0 due to no true samples.\n",
      "  'recall', 'true', average, warn_for)\n"
     ]
    }
   ],
   "source": [
    "print(\"** XGB Classifier Scores (Only rows with label CERTIFIED->0)\")\n",
    "print(\"Precision: %s\" % precision_score(y_zeros, xgb_pred_zeroonly))\n",
    "print(\"Recall: %s\"% recall_score(y_zeros, xgb_pred_zeroonly))\n",
    "print(\"Accuracy score: %s\"% accuracy_score(y_zeros, xgb_pred_zeroonly))\n",
    "print(\"F-1 score: %s\"% f1_score(y_zeros, xgb_pred_zeroonly))\n",
    "print(\"F-beta score with beta=0.5: %s\"% fbeta_score(y_zeros, xgb_pred_zeroonly, beta=0.5))\n",
    "print(\"F-beta score with beta=0.2: %s\"% fbeta_score(y_zeros, xgb_pred_zeroonly, beta=0.2))\n",
    "print(\"Confusion Matrix: \\n%s\"% confusion_matrix(y_zeros, xgb_pred_zeroonly))\n",
    "print(\"\\n\")\n",
    "print(\"** AB Classifier Scores (Only rows with label CERTIFIED->0)\")\n",
    "print(\"Precision: %s\"% precision_score(y_zeros, abc_pred_zeroonly))\n",
    "print(\"Recall: %s\"% recall_score(y_zeros, abc_pred_zeroonly))\n",
    "print(\"Accuracy score: %s\"% accuracy_score(y_zeros, abc_pred_zeroonly))\n",
    "print(\"F-1 score: %s\"% f1_score(y_zeros, abc_pred_zeroonly))\n",
    "print(\"F-beta score with beta=0.5: %s\"% fbeta_score(y_zeros, abc_pred_zeroonly, beta=0.5))\n",
    "print(\"F-beta score with beta=0.2: %s\"% fbeta_score(y_zeros, abc_pred_zeroonly, beta=0.2))\n",
    "print(\"Confusion Matrix: \\n%s\"% confusion_matrix(y_zeros, abc_pred_zeroonly))"
   ]
  },
  {
   "cell_type": "markdown",
   "metadata": {},
   "source": [
    "Show ratio between the two classes in the entire dataset (before split into train and test set)"
   ]
  },
  {
   "cell_type": "code",
   "execution_count": 27,
   "metadata": {},
   "outputs": [
    {
     "name": "stdout",
     "output_type": "stream",
     "text": [
      "                  0  percentage\n",
      "CASE_STATUS                    \n",
      "CERTIFIED    148924    0.799815\n",
      "DENIED        37274    0.200185\n"
     ]
    }
   ],
   "source": [
    "status_stats = df.groupby('CASE_STATUS').size().to_frame()\n",
    "status_stats['percentage'] = status_stats[0] / status_stats[0].sum()\n",
    "print(status_stats)"
   ]
  },
  {
   "cell_type": "code",
   "execution_count": 28,
   "metadata": {},
   "outputs": [
    {
     "data": {
      "text/plain": [
       "datetime.datetime(2018, 12, 12, 23, 46, 47, 722516)"
      ]
     },
     "execution_count": 28,
     "metadata": {},
     "output_type": "execute_result"
    }
   ],
   "source": [
    "import datetime\n",
    "datetime.datetime.now()"
   ]
  },
  {
   "cell_type": "code",
   "execution_count": null,
   "metadata": {},
   "outputs": [],
   "source": []
  },
  {
   "cell_type": "code",
   "execution_count": null,
   "metadata": {},
   "outputs": [],
   "source": []
  },
  {
   "cell_type": "code",
   "execution_count": null,
   "metadata": {},
   "outputs": [],
   "source": []
  },
  {
   "cell_type": "code",
   "execution_count": null,
   "metadata": {},
   "outputs": [],
   "source": []
  },
  {
   "cell_type": "code",
   "execution_count": null,
   "metadata": {},
   "outputs": [],
   "source": []
  },
  {
   "cell_type": "code",
   "execution_count": null,
   "metadata": {},
   "outputs": [],
   "source": []
  },
  {
   "cell_type": "code",
   "execution_count": null,
   "metadata": {},
   "outputs": [],
   "source": []
  },
  {
   "cell_type": "code",
   "execution_count": null,
   "metadata": {},
   "outputs": [],
   "source": []
  },
  {
   "cell_type": "code",
   "execution_count": null,
   "metadata": {},
   "outputs": [],
   "source": []
  },
  {
   "cell_type": "code",
   "execution_count": null,
   "metadata": {},
   "outputs": [],
   "source": []
  },
  {
   "cell_type": "code",
   "execution_count": null,
   "metadata": {},
   "outputs": [],
   "source": []
  },
  {
   "cell_type": "code",
   "execution_count": null,
   "metadata": {},
   "outputs": [],
   "source": []
  },
  {
   "cell_type": "code",
   "execution_count": null,
   "metadata": {},
   "outputs": [],
   "source": []
  },
  {
   "cell_type": "code",
   "execution_count": null,
   "metadata": {},
   "outputs": [],
   "source": []
  },
  {
   "cell_type": "code",
   "execution_count": null,
   "metadata": {},
   "outputs": [],
   "source": []
  },
  {
   "cell_type": "code",
   "execution_count": null,
   "metadata": {},
   "outputs": [],
   "source": []
  },
  {
   "cell_type": "code",
   "execution_count": null,
   "metadata": {},
   "outputs": [],
   "source": []
  },
  {
   "cell_type": "code",
   "execution_count": null,
   "metadata": {},
   "outputs": [],
   "source": []
  },
  {
   "cell_type": "code",
   "execution_count": null,
   "metadata": {},
   "outputs": [],
   "source": []
  },
  {
   "cell_type": "code",
   "execution_count": null,
   "metadata": {},
   "outputs": [],
   "source": []
  },
  {
   "cell_type": "code",
   "execution_count": null,
   "metadata": {},
   "outputs": [],
   "source": []
  },
  {
   "cell_type": "code",
   "execution_count": null,
   "metadata": {},
   "outputs": [],
   "source": []
  },
  {
   "cell_type": "code",
   "execution_count": null,
   "metadata": {},
   "outputs": [],
   "source": []
  },
  {
   "cell_type": "code",
   "execution_count": null,
   "metadata": {},
   "outputs": [],
   "source": []
  },
  {
   "cell_type": "code",
   "execution_count": null,
   "metadata": {},
   "outputs": [],
   "source": []
  },
  {
   "cell_type": "code",
   "execution_count": null,
   "metadata": {},
   "outputs": [],
   "source": []
  },
  {
   "cell_type": "code",
   "execution_count": null,
   "metadata": {},
   "outputs": [],
   "source": []
  },
  {
   "cell_type": "code",
   "execution_count": null,
   "metadata": {},
   "outputs": [],
   "source": []
  },
  {
   "cell_type": "code",
   "execution_count": null,
   "metadata": {},
   "outputs": [],
   "source": []
  },
  {
   "cell_type": "code",
   "execution_count": null,
   "metadata": {},
   "outputs": [],
   "source": []
  },
  {
   "cell_type": "code",
   "execution_count": null,
   "metadata": {},
   "outputs": [],
   "source": []
  },
  {
   "cell_type": "code",
   "execution_count": null,
   "metadata": {},
   "outputs": [],
   "source": []
  },
  {
   "cell_type": "code",
   "execution_count": null,
   "metadata": {},
   "outputs": [],
   "source": []
  },
  {
   "cell_type": "code",
   "execution_count": null,
   "metadata": {},
   "outputs": [],
   "source": []
  },
  {
   "cell_type": "code",
   "execution_count": null,
   "metadata": {},
   "outputs": [],
   "source": []
  },
  {
   "cell_type": "code",
   "execution_count": null,
   "metadata": {},
   "outputs": [],
   "source": []
  },
  {
   "cell_type": "code",
   "execution_count": null,
   "metadata": {},
   "outputs": [],
   "source": []
  },
  {
   "cell_type": "code",
   "execution_count": null,
   "metadata": {},
   "outputs": [],
   "source": []
  },
  {
   "cell_type": "code",
   "execution_count": null,
   "metadata": {},
   "outputs": [],
   "source": []
  },
  {
   "cell_type": "code",
   "execution_count": null,
   "metadata": {},
   "outputs": [],
   "source": []
  },
  {
   "cell_type": "code",
   "execution_count": null,
   "metadata": {},
   "outputs": [],
   "source": []
  },
  {
   "cell_type": "code",
   "execution_count": null,
   "metadata": {},
   "outputs": [],
   "source": []
  },
  {
   "cell_type": "code",
   "execution_count": null,
   "metadata": {},
   "outputs": [],
   "source": []
  },
  {
   "cell_type": "code",
   "execution_count": null,
   "metadata": {},
   "outputs": [],
   "source": []
  },
  {
   "cell_type": "code",
   "execution_count": null,
   "metadata": {},
   "outputs": [],
   "source": []
  },
  {
   "cell_type": "code",
   "execution_count": null,
   "metadata": {},
   "outputs": [],
   "source": []
  },
  {
   "cell_type": "code",
   "execution_count": null,
   "metadata": {},
   "outputs": [],
   "source": []
  },
  {
   "cell_type": "code",
   "execution_count": null,
   "metadata": {},
   "outputs": [],
   "source": []
  },
  {
   "cell_type": "code",
   "execution_count": null,
   "metadata": {},
   "outputs": [],
   "source": []
  },
  {
   "cell_type": "code",
   "execution_count": null,
   "metadata": {},
   "outputs": [],
   "source": []
  },
  {
   "cell_type": "code",
   "execution_count": null,
   "metadata": {},
   "outputs": [],
   "source": []
  },
  {
   "cell_type": "code",
   "execution_count": null,
   "metadata": {},
   "outputs": [],
   "source": []
  },
  {
   "cell_type": "code",
   "execution_count": null,
   "metadata": {},
   "outputs": [],
   "source": []
  },
  {
   "cell_type": "code",
   "execution_count": null,
   "metadata": {},
   "outputs": [],
   "source": []
  },
  {
   "cell_type": "code",
   "execution_count": null,
   "metadata": {},
   "outputs": [],
   "source": []
  },
  {
   "cell_type": "code",
   "execution_count": null,
   "metadata": {},
   "outputs": [],
   "source": []
  },
  {
   "cell_type": "code",
   "execution_count": null,
   "metadata": {},
   "outputs": [],
   "source": []
  },
  {
   "cell_type": "code",
   "execution_count": null,
   "metadata": {},
   "outputs": [],
   "source": []
  },
  {
   "cell_type": "code",
   "execution_count": null,
   "metadata": {},
   "outputs": [],
   "source": []
  },
  {
   "cell_type": "code",
   "execution_count": null,
   "metadata": {},
   "outputs": [],
   "source": []
  },
  {
   "cell_type": "code",
   "execution_count": null,
   "metadata": {},
   "outputs": [],
   "source": []
  },
  {
   "cell_type": "code",
   "execution_count": null,
   "metadata": {},
   "outputs": [],
   "source": []
  },
  {
   "cell_type": "code",
   "execution_count": null,
   "metadata": {},
   "outputs": [],
   "source": []
  },
  {
   "cell_type": "code",
   "execution_count": null,
   "metadata": {},
   "outputs": [],
   "source": []
  },
  {
   "cell_type": "code",
   "execution_count": null,
   "metadata": {},
   "outputs": [],
   "source": []
  },
  {
   "cell_type": "code",
   "execution_count": null,
   "metadata": {},
   "outputs": [],
   "source": []
  },
  {
   "cell_type": "code",
   "execution_count": null,
   "metadata": {},
   "outputs": [],
   "source": []
  },
  {
   "cell_type": "code",
   "execution_count": null,
   "metadata": {},
   "outputs": [],
   "source": []
  },
  {
   "cell_type": "code",
   "execution_count": null,
   "metadata": {},
   "outputs": [],
   "source": []
  },
  {
   "cell_type": "code",
   "execution_count": null,
   "metadata": {},
   "outputs": [],
   "source": []
  },
  {
   "cell_type": "code",
   "execution_count": null,
   "metadata": {},
   "outputs": [],
   "source": []
  },
  {
   "cell_type": "code",
   "execution_count": null,
   "metadata": {},
   "outputs": [],
   "source": []
  },
  {
   "cell_type": "code",
   "execution_count": null,
   "metadata": {},
   "outputs": [],
   "source": []
  }
 ],
 "metadata": {
  "kernelspec": {
   "display_name": "Python 2",
   "language": "python",
   "name": "python2"
  },
  "language_info": {
   "codemirror_mode": {
    "name": "ipython",
    "version": 2
   },
   "file_extension": ".py",
   "mimetype": "text/x-python",
   "name": "python",
   "nbconvert_exporter": "python",
   "pygments_lexer": "ipython2",
   "version": "2.7.10"
  }
 },
 "nbformat": 4,
 "nbformat_minor": 2
}
