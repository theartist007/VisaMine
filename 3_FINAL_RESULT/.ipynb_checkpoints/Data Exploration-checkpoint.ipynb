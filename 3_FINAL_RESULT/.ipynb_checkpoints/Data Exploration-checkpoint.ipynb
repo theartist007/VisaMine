{
 "cells": [
  {
   "cell_type": "code",
   "execution_count": 1,
   "metadata": {},
   "outputs": [],
   "source": [
    "import pandas as pd"
   ]
  },
  {
   "cell_type": "code",
   "execution_count": 2,
   "metadata": {},
   "outputs": [
    {
     "name": "stderr",
     "output_type": "stream",
     "text": [
      "/Users/minse_chang/JTRN/JTRN_env/lib/python2.7/site-packages/IPython/core/interactiveshell.py:2714: DtypeWarning: Columns (13,14,16,20,23,24,42) have mixed types. Specify dtype option on import or set low_memory=False.\n",
      "  interactivity=interactivity, compiler=compiler, result=result)\n"
     ]
    }
   ],
   "source": [
    "df_raw = pd.read_csv('/Users/minse_chang/PycharmProjects/Udacity_ML_Capstone/data/H1B_RAW_15-18.csv', encoding='utf-8')"
   ]
  },
  {
   "cell_type": "code",
   "execution_count": 3,
   "metadata": {},
   "outputs": [
    {
     "name": "stdout",
     "output_type": "stream",
     "text": [
      "21.0% of samples are missing feature WAGE_RATE_OF_PAY_TO.\n",
      "59.0% of samples have value 0 for feature WAGE_RATE_OF_PAY_TO.\n"
     ]
    }
   ],
   "source": [
    "totalCount  = df_raw.shape[0]\n",
    "nullCount = len(df_raw[df_raw['WAGE_RATE_OF_PAY_TO'].isnull()])\n",
    "zeroCount = len(df_raw[df_raw['WAGE_RATE_OF_PAY_TO']==0.0])\n",
    "\n",
    "print(\"{}% of samples are missing feature WAGE_RATE_OF_PAY_TO.\".format(round(nullCount/float(totalCount)*100)))\n",
    "print(\"{}% of samples have value 0 for feature WAGE_RATE_OF_PAY_TO.\".format(round(zeroCount/float(totalCount)*100)))\n"
   ]
  },
  {
   "cell_type": "code",
   "execution_count": 11,
   "metadata": {},
   "outputs": [
    {
     "name": "stdout",
     "output_type": "stream",
     "text": [
      "There are 1250 unique values for SOC Code.\n",
      "There are 3508 unique values for NAICS Code.\n"
     ]
    }
   ],
   "source": [
    "print(\"There are {} unique values for SOC Code.\".format(len(df_raw.SOC_CODE.unique())))\n",
    "print(\"There are {} unique values for NAICS Code.\".format(len(df_raw.NAICS_CODE.unique())))\n",
    "\n",
    "\n",
    "\n"
   ]
  },
  {
   "cell_type": "code",
   "execution_count": null,
   "metadata": {},
   "outputs": [],
   "source": [
    "\n",
    "\n",
    "print(\"There are {} unique values for SOC Code.\".format(len(df_raw.SOC_CODE.unique())))\n",
    "print(\"There are {} unique values for NAICS Code.\".format(len(df_raw.NAICS_CODE.unique())))\n",
    "\n"
   ]
  },
  {
   "cell_type": "code",
   "execution_count": 37,
   "metadata": {},
   "outputs": [
    {
     "name": "stdout",
     "output_type": "stream",
     "text": [
      "390164\n",
      "Only 15.3265982262% of the total samples have SOC code other than top 30 SOC codes\n"
     ]
    }
   ],
   "source": [
    "grouped = df_raw.groupby('SOC_CODE').count().reset_index()\n",
    "g = grouped.sort_values('Unnamed: 0', ascending=False)['Unnamed: 0'][30:]\n",
    "count_codes_other_than_top_30 = sum(g)\n",
    "print(count_codes_other_than_top_30)\n",
    "print(\"Only {}% of the total samples have SOC code other than top 30 SOC codes\".format(count_codes_other_than_top_30/float(int(df_raw.shape[0]))*100))"
   ]
  },
  {
   "cell_type": "code",
   "execution_count": 39,
   "metadata": {},
   "outputs": [
    {
     "data": {
      "text/plain": [
       "CASE_STATUS\n",
       "CERTIFIED              2242067\n",
       "CERTIFIED-WITHDRAWN     182871\n",
       "DENIED                   37310\n",
       "WITHDRAWN                83418\n",
       "dtype: int64"
      ]
     },
     "execution_count": 39,
     "metadata": {},
     "output_type": "execute_result"
    }
   ],
   "source": [
    "df_raw.groupby('CASE_STATUS').size()"
   ]
  },
  {
   "cell_type": "code",
   "execution_count": 42,
   "metadata": {},
   "outputs": [
    {
     "name": "stdout",
     "output_type": "stream",
     "text": [
      "Only 1.46562824817% of the total samples have DENIED label.\n"
     ]
    }
   ],
   "source": [
    "print(\"Only {}% of the total samples have DENIED label.\".format(len(df_raw[df_raw['CASE_STATUS']=='DENIED'])/float(df_raw.shape[0])*100))"
   ]
  },
  {
   "cell_type": "code",
   "execution_count": 4,
   "metadata": {},
   "outputs": [
    {
     "data": {
      "text/plain": [
       "75798.73595630667"
      ]
     },
     "execution_count": 4,
     "metadata": {},
     "output_type": "execute_result"
    }
   ],
   "source": [
    "df_raw.PREVAILING_WAGE.mean()"
   ]
  },
  {
   "cell_type": "code",
   "execution_count": 5,
   "metadata": {},
   "outputs": [
    {
     "data": {
      "text/plain": [
       "73112.0"
      ]
     },
     "execution_count": 5,
     "metadata": {},
     "output_type": "execute_result"
    }
   ],
   "source": [
    "df_raw.PREVAILING_WAGE.median()"
   ]
  },
  {
   "cell_type": "code",
   "execution_count": 13,
   "metadata": {},
   "outputs": [
    {
     "data": {
      "text/plain": [
       "count    2.545594e+06\n",
       "mean     7.579874e+04\n",
       "std      6.410474e+05\n",
       "min      0.000000e+00\n",
       "25%      5.933970e+04\n",
       "50%      7.311200e+04\n",
       "75%      9.171635e+04\n",
       "max      1.000000e+09\n",
       "Name: PREVAILING_WAGE, dtype: float64"
      ]
     },
     "execution_count": 13,
     "metadata": {},
     "output_type": "execute_result"
    }
   ],
   "source": [
    "df_raw.PREVAILING_WAGE.describe()"
   ]
  },
  {
   "cell_type": "code",
   "execution_count": 14,
   "metadata": {},
   "outputs": [
    {
     "data": {
      "text/plain": [
       "count    2.355798e+06\n",
       "mean     8.656971e+04\n",
       "std      6.531740e+05\n",
       "min      0.000000e+00\n",
       "25%      6.569430e+04\n",
       "50%      7.965402e+04\n",
       "75%      1.020000e+05\n",
       "max      1.000000e+09\n",
       "Name: WAGE_RATE_OF_PAY_FROM, dtype: float64"
      ]
     },
     "execution_count": 14,
     "metadata": {},
     "output_type": "execute_result"
    }
   ],
   "source": [
    "df_raw.WAGE_RATE_OF_PAY_FROM.describe()"
   ]
  },
  {
   "cell_type": "markdown",
   "metadata": {},
   "source": [
    "Remove Outliers and show stats again"
   ]
  },
  {
   "cell_type": "code",
   "execution_count": 19,
   "metadata": {
    "scrolled": true
   },
   "outputs": [
    {
     "data": {
      "text/plain": [
       "count    2.120200e+06\n",
       "mean     8.454033e+04\n",
       "std      2.462791e+04\n",
       "min      7.000910e+01\n",
       "25%      6.696030e+04\n",
       "50%      7.965402e+04\n",
       "75%      9.889339e+04\n",
       "max      1.526311e+05\n",
       "Name: WAGE_RATE_OF_PAY_FROM, dtype: float64"
      ]
     },
     "execution_count": 19,
     "metadata": {},
     "output_type": "execute_result"
    }
   ],
   "source": [
    "df_raw[(df_raw['WAGE_RATE_OF_PAY_FROM']>df_raw['WAGE_RATE_OF_PAY_FROM'].quantile(0.05)) & \n",
    "       (df_raw['WAGE_RATE_OF_PAY_FROM']<df_raw['WAGE_RATE_OF_PAY_FROM'].quantile(0.95))]\\\n",
    "        .WAGE_RATE_OF_PAY_FROM.describe()"
   ]
  },
  {
   "cell_type": "code",
   "execution_count": 20,
   "metadata": {
    "scrolled": false
   },
   "outputs": [
    {
     "data": {
      "text/plain": [
       "count    2.291004e+06\n",
       "mean     7.498997e+04\n",
       "std      2.250399e+04\n",
       "min      4.224030e+01\n",
       "25%      6.102075e+04\n",
       "50%      7.311200e+04\n",
       "75%      8.925259e+04\n",
       "max      1.290178e+05\n",
       "Name: PREVAILING_WAGE, dtype: float64"
      ]
     },
     "execution_count": 20,
     "metadata": {},
     "output_type": "execute_result"
    }
   ],
   "source": [
    "df_raw[(df_raw['PREVAILING_WAGE']>df_raw['PREVAILING_WAGE'].quantile(0.05)) & \n",
    "       (df_raw['PREVAILING_WAGE']<df_raw['PREVAILING_WAGE'].quantile(0.95))]\\\n",
    "        .PREVAILING_WAGE.describe()"
   ]
  },
  {
   "cell_type": "code",
   "execution_count": 27,
   "metadata": {},
   "outputs": [
    {
     "data": {
      "text/plain": [
       "PW_SOURCE\n",
       "CBA                                 16988\n",
       "DBA                                    68\n",
       "OES                               2051445\n",
       "OES (ACWIA - Higher Education)          3\n",
       "OES (All Industries)                    4\n",
       "Other                              476835\n",
       "SCA                                    95\n",
       "dtype: int64"
      ]
     },
     "execution_count": 27,
     "metadata": {},
     "output_type": "execute_result"
    }
   ],
   "source": [
    "len(df_raw['PW_SOURCE_OTHER'].unique())\n",
    "# df_raw.columns\n",
    "df_raw.groupby('PW_SOURCE').size()"
   ]
  },
  {
   "cell_type": "code",
   "execution_count": 47,
   "metadata": {},
   "outputs": [],
   "source": [
    "status_stats = df_raw.groupby('CASE_STATUS').size().to_frame()\n",
    "status_stats['% Distribution'] = status_stats[0] / status_stats[0].sum() * 100.0\n",
    "status_stats.index.rename(\"Case Status\", inplace=True)\n"
   ]
  },
  {
   "cell_type": "code",
   "execution_count": 52,
   "metadata": {},
   "outputs": [
    {
     "data": {
      "text/plain": [
       "Text(0.5,0,'% Distribution')"
      ]
     },
     "execution_count": 52,
     "metadata": {},
     "output_type": "execute_result"
    },
    {
     "data": {
      "image/png": "[encoded data removed]",
      "text/plain": [
       "<Figure size 864x216 with 1 Axes>"
      ]
     },
     "metadata": {
      "needs_background": "light"
     },
     "output_type": "display_data"
    }
   ],
   "source": [
    "import matplotlib\n",
    "import matplotlib.pyplot as plt\n",
    "import numpy as np\n",
    "%matplotlib inline \n",
    "\n",
    "status_stats['% Distribution'].plot(kind='barh', colormap='tab10', figsize=(12,3)).invert_yaxis()\n",
    "plt.legend(loc=\"lower right\")\n",
    "plt.title('% Distribution of Samples with Each Class')\n",
    "plt.xticks(np.arange(0,110,step=10))\n",
    "plt.xlabel('% Distribution')"
   ]
  },
  {
   "cell_type": "code",
   "execution_count": 41,
   "metadata": {},
   "outputs": [
    {
     "data": {
      "text/plain": [
       "Case Status\n",
       "CERTIFIED              88.073887\n",
       "CERTIFIED-WITHDRAWN     7.183621\n",
       "DENIED                  1.465628\n",
       "WITHDRAWN               3.276864\n",
       "Name: % Distribution, dtype: float64"
      ]
     },
     "execution_count": 41,
     "metadata": {},
     "output_type": "execute_result"
    }
   ],
   "source": [
    "status_stats['% Distribution']\n"
   ]
  },
  {
   "cell_type": "code",
   "execution_count": null,
   "metadata": {},
   "outputs": [],
   "source": []
  }
 ],
 "metadata": {
  "kernelspec": {
   "display_name": "Python 2",
   "language": "python",
   "name": "python2"
  },
  "language_info": {
   "codemirror_mode": {
    "name": "ipython",
    "version": 2
   },
   "file_extension": ".py",
   "mimetype": "text/x-python",
   "name": "python",
   "nbconvert_exporter": "python",
   "pygments_lexer": "ipython2",
   "version": "2.7.10"
  }
 },
 "nbformat": 4,
 "nbformat_minor": 2
}
