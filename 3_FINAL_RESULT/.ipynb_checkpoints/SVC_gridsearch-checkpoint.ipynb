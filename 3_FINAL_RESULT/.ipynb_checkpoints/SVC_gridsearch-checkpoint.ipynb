{
 "cells": [
  {
   "cell_type": "code",
   "execution_count": 1,
   "metadata": {},
   "outputs": [],
   "source": [
    "import pandas as pd\n",
    "from sklearn.model_selection import train_test_split\n",
    "from sklearn.preprocessing import MinMaxScaler\n",
    "from sklearn.preprocessing import LabelEncoder\n",
    "from sklearn.decomposition import RandomizedPCA\n",
    "from sklearn.decomposition import PCA"
   ]
  },
  {
   "cell_type": "markdown",
   "metadata": {},
   "source": [
    "Load cleaned up version of dataset from 2015 to 2018.  Drop geographic information about employer and worksite to reduce dimensionality"
   ]
  },
  {
   "cell_type": "code",
   "execution_count": 2,
   "metadata": {},
   "outputs": [],
   "source": [
    "df = pd.read_pickle('/Users/minse_chang/PycharmProjects/Udacity_ML_Capstone/data/H1B_15-18_new.pickle')\n",
    "df.drop(columns=['EMPLOYER_CITY','JOB_TITLE','EMPLOYER_NAME'], inplace=True)\n",
    "df.drop(columns=['EMPLOYER_STATE','WORKSITE_STATE'], inplace=True)\n"
   ]
  },
  {
   "cell_type": "code",
   "execution_count": 3,
   "metadata": {},
   "outputs": [
    {
     "data": {
      "text/html": [
       "<div>\n",
       "<style scoped>\n",
       "    .dataframe tbody tr th:only-of-type {\n",
       "        vertical-align: middle;\n",
       "    }\n",
       "\n",
       "    .dataframe tbody tr th {\n",
       "        vertical-align: top;\n",
       "    }\n",
       "\n",
       "    .dataframe thead th {\n",
       "        text-align: right;\n",
       "    }\n",
       "</style>\n",
       "<table border=\"1\" class=\"dataframe\">\n",
       "  <thead>\n",
       "    <tr style=\"text-align: right;\">\n",
       "      <th></th>\n",
       "      <th>CASE_STATUS</th>\n",
       "      <th>FULL_TIME_POSITION</th>\n",
       "      <th>H1B_DEPENDENT</th>\n",
       "      <th>NAICS_CODE</th>\n",
       "      <th>PREVAILING_WAGE</th>\n",
       "      <th>PW_SOURCE</th>\n",
       "      <th>SOC_CODE</th>\n",
       "      <th>VISA_CLASS</th>\n",
       "      <th>WAGE_UNIT_OF_PAY</th>\n",
       "      <th>WILLFUL_VIOLATOR</th>\n",
       "      <th>WAGE_LOWER_THAN_PW</th>\n",
       "    </tr>\n",
       "  </thead>\n",
       "  <tbody>\n",
       "    <tr>\n",
       "      <th>1</th>\n",
       "      <td>CERTIFIED</td>\n",
       "      <td>Y</td>\n",
       "      <td>N</td>\n",
       "      <td>611310</td>\n",
       "      <td>45727.3340</td>\n",
       "      <td>Other</td>\n",
       "      <td>25-1032</td>\n",
       "      <td>H-1B</td>\n",
       "      <td>Year</td>\n",
       "      <td>N</td>\n",
       "      <td>False</td>\n",
       "    </tr>\n",
       "    <tr>\n",
       "      <th>3</th>\n",
       "      <td>CERTIFIED</td>\n",
       "      <td>Y</td>\n",
       "      <td>N</td>\n",
       "      <td>335314</td>\n",
       "      <td>70413.2662</td>\n",
       "      <td>OES</td>\n",
       "      <td>17-2072</td>\n",
       "      <td>H-1B</td>\n",
       "      <td>Year</td>\n",
       "      <td>N</td>\n",
       "      <td>False</td>\n",
       "    </tr>\n",
       "    <tr>\n",
       "      <th>4</th>\n",
       "      <td>CERTIFIED</td>\n",
       "      <td>Y</td>\n",
       "      <td>N</td>\n",
       "      <td>522294</td>\n",
       "      <td>103390.0783</td>\n",
       "      <td>OES</td>\n",
       "      <td>15-1131</td>\n",
       "      <td>H-1B</td>\n",
       "      <td>Year</td>\n",
       "      <td>N</td>\n",
       "      <td>False</td>\n",
       "    </tr>\n",
       "    <tr>\n",
       "      <th>6</th>\n",
       "      <td>CERTIFIED</td>\n",
       "      <td>Y</td>\n",
       "      <td>N</td>\n",
       "      <td>541511</td>\n",
       "      <td>142938.9944</td>\n",
       "      <td>Other</td>\n",
       "      <td>15-1132</td>\n",
       "      <td>H-1B</td>\n",
       "      <td>Year</td>\n",
       "      <td>N</td>\n",
       "      <td>False</td>\n",
       "    </tr>\n",
       "    <tr>\n",
       "      <th>7</th>\n",
       "      <td>CERTIFIED</td>\n",
       "      <td>Y</td>\n",
       "      <td>N</td>\n",
       "      <td>522294</td>\n",
       "      <td>68372.2865</td>\n",
       "      <td>OES</td>\n",
       "      <td>15-2031</td>\n",
       "      <td>H-1B</td>\n",
       "      <td>Year</td>\n",
       "      <td>N</td>\n",
       "      <td>False</td>\n",
       "    </tr>\n",
       "  </tbody>\n",
       "</table>\n",
       "</div>"
      ],
      "text/plain": [
       "  CASE_STATUS FULL_TIME_POSITION H1B_DEPENDENT NAICS_CODE  PREVAILING_WAGE  \\\n",
       "1   CERTIFIED                  Y             N     611310       45727.3340   \n",
       "3   CERTIFIED                  Y             N     335314       70413.2662   \n",
       "4   CERTIFIED                  Y             N     522294      103390.0783   \n",
       "6   CERTIFIED                  Y             N     541511      142938.9944   \n",
       "7   CERTIFIED                  Y             N     522294       68372.2865   \n",
       "\n",
       "  PW_SOURCE SOC_CODE VISA_CLASS WAGE_UNIT_OF_PAY WILLFUL_VIOLATOR  \\\n",
       "1     Other  25-1032       H-1B             Year                N   \n",
       "3       OES  17-2072       H-1B             Year                N   \n",
       "4       OES  15-1131       H-1B             Year                N   \n",
       "6     Other  15-1132       H-1B             Year                N   \n",
       "7       OES  15-2031       H-1B             Year                N   \n",
       "\n",
       "   WAGE_LOWER_THAN_PW  \n",
       "1               False  \n",
       "3               False  \n",
       "4               False  \n",
       "6               False  \n",
       "7               False  "
      ]
     },
     "execution_count": 3,
     "metadata": {},
     "output_type": "execute_result"
    }
   ],
   "source": [
    "df.head()"
   ]
  },
  {
   "cell_type": "markdown",
   "metadata": {},
   "source": [
    "Show first 5 lines of the dataset"
   ]
  },
  {
   "cell_type": "code",
   "execution_count": 4,
   "metadata": {},
   "outputs": [],
   "source": [
    "ones_df = df[df['CASE_STATUS']=='DENIED']\n",
    "zeros_df = df[df['CASE_STATUS']=='CERTIFIED']\n",
    "df = pd.concat([ones_df, zeros_df.sample(frac=0.02, random_state=99)])\n"
   ]
  },
  {
   "cell_type": "code",
   "execution_count": 5,
   "metadata": {},
   "outputs": [
    {
     "name": "stdout",
     "output_type": "stream",
     "text": [
      "(37310, 11)\n"
     ]
    }
   ],
   "source": [
    "ones_df.head()\n",
    "print(ones_df.shape)"
   ]
  },
  {
   "cell_type": "code",
   "execution_count": 6,
   "metadata": {},
   "outputs": [
    {
     "name": "stdout",
     "output_type": "stream",
     "text": [
      "(1656369, 11)\n"
     ]
    }
   ],
   "source": [
    "zeros_df.head()\n",
    "print(zeros_df.shape)"
   ]
  },
  {
   "cell_type": "markdown",
   "metadata": {},
   "source": [
    "We will use column 'CASE_STATUS' as our label.  DENIED will be 1 and CERTIFIED will be 0 after it gets incoded by label_encoder.\n",
    "\n",
    "Normalize PREVAILING_WAGE using minmax scaler since it varies quite a bit."
   ]
  },
  {
   "cell_type": "code",
   "execution_count": 7,
   "metadata": {},
   "outputs": [],
   "source": [
    "scaler = MinMaxScaler()\n",
    "X = df.drop(columns='CASE_STATUS')\n",
    "\n",
    "label_encoder = LabelEncoder()\n",
    "y = label_encoder.fit_transform(df['CASE_STATUS'])\n",
    "\n",
    "X[['PREVAILING_WAGE']] = scaler.fit_transform(X[['PREVAILING_WAGE']])\n",
    "X = pd.get_dummies(X)"
   ]
  },
  {
   "cell_type": "code",
   "execution_count": 8,
   "metadata": {},
   "outputs": [],
   "source": [
    "# X_train, X_test, y_train, y_test = train_test_split(X, y, stratify=y, test_size=0.2)"
   ]
  },
  {
   "cell_type": "markdown",
   "metadata": {},
   "source": [
    "Check value counts to verify stratify split"
   ]
  },
  {
   "cell_type": "code",
   "execution_count": 8,
   "metadata": {},
   "outputs": [],
   "source": [
    "n_components = 400\n",
    "pca = PCA(n_components=n_components, whiten=True, svd_solver='randomized')\n",
    "pca = pca.fit(X)"
   ]
  },
  {
   "cell_type": "code",
   "execution_count": 9,
   "metadata": {},
   "outputs": [
    {
     "name": "stdout",
     "output_type": "stream",
     "text": [
      "done in 17.083s\n"
     ]
    }
   ],
   "source": [
    "from time import time\n",
    "t0 = time()\n",
    "# eigenfaces = pca.components_.reshape((n_components, h, w))\n",
    "X = pca.transform(X)\n",
    "\n",
    "print(\"done in %0.3fs\" % (time() - t0))"
   ]
  },
  {
   "cell_type": "code",
   "execution_count": 11,
   "metadata": {},
   "outputs": [],
   "source": [
    "# from sklearn.tree import DecisionTreeClassifier\n",
    "# clf = DecisionTreeClassifier()\n",
    "\n",
    "# X_train_benchmark = X_train[['PREVAILING_WAGE', 'WAGE_RATE_OF_PAY_FROM', 'SOC_CODE','NAICS_CODE', 'PW_UNIT_OF_PAY']]\n",
    "# X_test_benchmark = X_test[['PREVAILING_WAGE', 'WAGE_RATE_OF_PAY_FROM', 'SOC_CODE','NAICS_CODE', 'PW_UNIT_OF_PAY']]\n",
    "# X_train_benchmark['LOW_WAGE'] = X_train_benchmark['WAGE_RATE_OF_PAY_FROM'] < X_train_benchmark['PREVAILING_WAGE']\n",
    "# X_test_benchmark['LOW_WAGE'] = X_test_benchmark['WAGE_RATE_OF_PAY_FROM'] < X_test_benchmark['PREVAILING_WAGE']\n",
    "# X_train_benchmark.drop(columns=['WAGE_RATE_OF_PAY_FROM'], inplace=True)\n",
    "# X_test_benchmark.drop(columns=['WAGE_RATE_OF_PAY_FROM'], inplace=True)\n",
    "# X_train_benchmark = pd.get_dummies(X_train_benchmark)\n",
    "# X_test_benchmark = pd.get_dummies(X_test_benchmark)\n",
    "\n",
    "# clf.fit(X_train_benchmark, y_train)\n",
    "# print(clf.feature_importances_)\n",
    "# clf.score(X_test_benchmark, y_test)"
   ]
  },
  {
   "cell_type": "markdown",
   "metadata": {},
   "source": [
    "Train DecisionTreeClassifier and predict using X_test"
   ]
  },
  {
   "cell_type": "code",
   "execution_count": null,
   "metadata": {},
   "outputs": [],
   "source": []
  },
  {
   "cell_type": "markdown",
   "metadata": {},
   "source": [
    "Train RandomForestClassifier and predict using X_test"
   ]
  },
  {
   "cell_type": "code",
   "execution_count": 10,
   "metadata": {
    "scrolled": true
   },
   "outputs": [
    {
     "name": "stderr",
     "output_type": "stream",
     "text": [
      "/Users/minse_chang/JTRN/JTRN_env/lib/python2.7/site-packages/sklearn/ensemble/weight_boosting.py:29: DeprecationWarning: numpy.core.umath_tests is an internal NumPy module and should not be imported. It will be removed in a future NumPy release.\n",
      "  from numpy.core.umath_tests import inner1d\n"
     ]
    }
   ],
   "source": [
    "from sklearn.ensemble import RandomForestClassifier\n",
    "from sklearn.model_selection import GridSearchCV\n",
    "from sklearn.model_selection import RandomizedSearchCV\n",
    "\n",
    "# # from sklearn.feature_extraction.text import CountVectorizer\n",
    "\n",
    "# rfc = RandomForestClassifier()\n",
    "# # vec = CountVectorizer()\n",
    "# # X_train_t = vec.fit_transform(X_train)\n",
    "\n",
    "# # rfc.fit(X, y)\n",
    "\n",
    "# params = {'n_estimators': list(range(10,300,40)),\n",
    "# 'max_depth': list(range(10,100,10)),\n",
    "# 'max_features': list(range(2,20,2)),\n",
    "# # 'min_samples_leaf': list(range(3,10,2)),\n",
    "# # 'min_samples_split': list(range(5,15,3)),\n",
    "# #           'bootstrap': [True, False]\n",
    "# }\n",
    "\n",
    "# from time import time\n",
    "# start = time()\n",
    "\n",
    "# # run grid search\n",
    "# n_iter_search = 50\n",
    "# # grid_search = GridSearchCV(rfc, param_grid=params, cv=5)\n",
    "# random_search = RandomizedSearchCV(rfc, param_distributions=params, scoring='accuracy',\n",
    "#                                    n_iter=n_iter_search, cv=5)\n",
    "\n",
    "\n",
    "# random_search.fit(X, y)\n",
    "# endtime= time()"
   ]
  },
  {
   "cell_type": "code",
   "execution_count": 12,
   "metadata": {},
   "outputs": [],
   "source": [
    "from sklearn.svm import SVC\n",
    "\n",
    "svc = SVC(kernel='rbf')\n",
    "params={\n",
    "    'C':[1,10,100,1000], \n",
    "    'gamma':[1,0.1,0.001,0.0001],\n",
    "}\n",
    "\n",
    "\n",
    "\n",
    "\n",
    "\n",
    "from time import time\n",
    "start = time()\n",
    "\n",
    "# run grid search\n",
    "n_iter_search = 7\n",
    "# grid_search = GridSearchCV(svc, param_grid=params, cv=5)\n",
    "random_search = RandomizedSearchCV(svc, param_distributions=params, scoring='accuracy',\n",
    "                                   n_iter=n_iter_search, cv=5)\n",
    "\n",
    "\n",
    "random_search.fit(X, y)\n",
    "endtime= time()"
   ]
  },
  {
   "cell_type": "markdown",
   "metadata": {},
   "source": [
    "Output the feature importance vector and sort by importance"
   ]
  },
  {
   "cell_type": "code",
   "execution_count": 14,
   "metadata": {},
   "outputs": [
    {
     "name": "stdout",
     "output_type": "stream",
     "text": [
      "RandomizedSearchCV took 170855.93 seconds for 7 candidates parameter settings.\n",
      "Model with rank: 1\n",
      "Mean validation score: 0.719 (std: 0.024)\n",
      "Parameters: {'C': 100, 'gamma': 0.001}\n",
      "\n",
      "Model with rank: 2\n",
      "Mean validation score: 0.718 (std: 0.025)\n",
      "Parameters: {'C': 10, 'gamma': 0.001}\n",
      "\n",
      "Model with rank: 3\n",
      "Mean validation score: 0.718 (std: 0.022)\n",
      "Parameters: {'C': 100, 'gamma': 1}\n",
      "\n",
      "Model with rank: 4\n",
      "Mean validation score: 0.717 (std: 0.022)\n",
      "Parameters: {'C': 1000, 'gamma': 1}\n",
      "\n",
      "Model with rank: 5\n",
      "Mean validation score: 0.717 (std: 0.021)\n",
      "Parameters: {'C': 1, 'gamma': 0.1}\n",
      "\n",
      "Model with rank: 6\n",
      "Mean validation score: 0.715 (std: 0.023)\n",
      "Parameters: {'C': 1000, 'gamma': 0.1}\n",
      "\n",
      "Model with rank: 7\n",
      "Mean validation score: 0.714 (std: 0.026)\n",
      "Parameters: {'C': 1000, 'gamma': 0.001}\n",
      "\n"
     ]
    }
   ],
   "source": [
    "import numpy as np\n",
    "def report(results, n_top=30):\n",
    "    for i in range(1, n_top + 1):\n",
    "        candidates = np.flatnonzero(results['rank_test_score'] == i)\n",
    "        for candidate in candidates:\n",
    "            print(\"Model with rank: {0}\".format(i))\n",
    "            print(\"Mean validation score: {0:.3f} (std: {1:.3f})\".format(\n",
    "                  results['mean_test_score'][candidate],\n",
    "                  results['std_test_score'][candidate]))\n",
    "            print(\"Parameters: {0}\".format(results['params'][candidate]))\n",
    "            print(\"\")\n",
    "\n",
    "print(\"RandomizedSearchCV took %.2f seconds for %d candidates\"\n",
    "      \" parameter settings.\" % ((endtime - start), n_iter_search))\n",
    "report(random_search.cv_results_)"
   ]
  }
 ],
 "metadata": {
  "kernelspec": {
   "display_name": "Python 2",
   "language": "python",
   "name": "python2"
  },
  "language_info": {
   "codemirror_mode": {
    "name": "ipython",
    "version": 2
   },
   "file_extension": ".py",
   "mimetype": "text/x-python",
   "name": "python",
   "nbconvert_exporter": "python",
   "pygments_lexer": "ipython2",
   "version": "2.7.10"
  }
 },
 "nbformat": 4,
 "nbformat_minor": 2
}
