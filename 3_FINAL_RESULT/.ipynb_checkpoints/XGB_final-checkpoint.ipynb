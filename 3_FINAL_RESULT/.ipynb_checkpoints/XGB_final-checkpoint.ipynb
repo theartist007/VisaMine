{
 "cells": [
  {
   "cell_type": "code",
   "execution_count": 58,
   "metadata": {},
   "outputs": [],
   "source": [
    "import pandas as pd\n",
    "from sklearn.model_selection import train_test_split\n",
    "from sklearn.preprocessing import MinMaxScaler\n",
    "from sklearn.preprocessing import LabelEncoder"
   ]
  },
  {
   "cell_type": "markdown",
   "metadata": {},
   "source": [
    "Load cleaned up version of dataset from 2012 to 2018.  Drop geographic information about employer and worksite to reduce dimensionality"
   ]
  },
  {
   "cell_type": "code",
   "execution_count": 59,
   "metadata": {},
   "outputs": [],
   "source": [
    "df = pd.read_pickle('/Users/ml/Desktop/Udacity_ML_Capstone/data/H1B_15-18_new.pickle')\n",
    "df.drop(columns=['EMPLOYER_CITY','JOB_TITLE','EMPLOYER_NAME'], inplace=True)\n",
    "df.drop(columns=['EMPLOYER_STATE','WORKSITE_STATE'], inplace=True)\n"
   ]
  },
  {
   "cell_type": "code",
   "execution_count": 60,
   "metadata": {},
   "outputs": [],
   "source": [
    "ones_df = df[df['CASE_STATUS']=='DENIED']\n",
    "zeros_df = df[df['CASE_STATUS']=='CERTIFIED']"
   ]
  },
  {
   "cell_type": "code",
   "execution_count": 61,
   "metadata": {},
   "outputs": [],
   "source": [
    "# df = pd.concat([ones_df, zeros_df.sample(frac=0.1, random_state=99)])\n",
    "df = pd.concat([ones_df, zeros_df.sample(frac=0.02, random_state=99)])\n"
   ]
  },
  {
   "cell_type": "code",
   "execution_count": 62,
   "metadata": {},
   "outputs": [
    {
     "name": "stdout",
     "output_type": "stream",
     "text": [
      "(37310, 11)\n"
     ]
    }
   ],
   "source": [
    "ones_df.head()\n",
    "print(ones_df.shape)"
   ]
  },
  {
   "cell_type": "code",
   "execution_count": 63,
   "metadata": {},
   "outputs": [
    {
     "name": "stdout",
     "output_type": "stream",
     "text": [
      "(1656369, 11)\n"
     ]
    }
   ],
   "source": [
    "zeros_df.head()\n",
    "print(zeros_df.shape)"
   ]
  },
  {
   "cell_type": "markdown",
   "metadata": {},
   "source": [
    "We will use column 'CASE_STATUS' as our label.  DENIED will be 1 and CERTIFIED will be 0 after it gets incoded by label_encoder.\n",
    "\n",
    "Normalize PREVAILING_WAGE using minmax scaler since it varies quite a bit."
   ]
  },
  {
   "cell_type": "code",
   "execution_count": 64,
   "metadata": {},
   "outputs": [],
   "source": [
    "scaler = MinMaxScaler()\n",
    "X = df.drop(columns='CASE_STATUS')\n",
    "\n",
    "label_encoder = LabelEncoder()\n",
    "y = label_encoder.fit_transform(df['CASE_STATUS'])\n",
    "\n",
    "X[['PREVAILING_WAGE']] = scaler.fit_transform(X[['PREVAILING_WAGE']])\n",
    "X = pd.get_dummies(X)"
   ]
  },
  {
   "cell_type": "code",
   "execution_count": 65,
   "metadata": {},
   "outputs": [],
   "source": [
    "X_train, X_test, y_train, y_test = train_test_split(X, y, test_size=0.2, random_state=99)"
   ]
  },
  {
   "cell_type": "markdown",
   "metadata": {},
   "source": [
    "Check value counts to verify stratify split"
   ]
  },
  {
   "cell_type": "code",
   "execution_count": 66,
   "metadata": {},
   "outputs": [
    {
     "data": {
      "text/html": [
       "<div>\n",
       "<style scoped>\n",
       "    .dataframe tbody tr th:only-of-type {\n",
       "        vertical-align: middle;\n",
       "    }\n",
       "\n",
       "    .dataframe tbody tr th {\n",
       "        vertical-align: top;\n",
       "    }\n",
       "\n",
       "    .dataframe thead th {\n",
       "        text-align: right;\n",
       "    }\n",
       "</style>\n",
       "<table border=\"1\" class=\"dataframe\">\n",
       "  <thead>\n",
       "    <tr style=\"text-align: right;\">\n",
       "      <th></th>\n",
       "      <th>PREVAILING_WAGE</th>\n",
       "      <th>WAGE_LOWER_THAN_PW</th>\n",
       "      <th>FULL_TIME_POSITION_N</th>\n",
       "      <th>FULL_TIME_POSITION_Y</th>\n",
       "      <th>H1B_DEPENDENT_N</th>\n",
       "      <th>H1B_DEPENDENT_Y</th>\n",
       "      <th>NAICS_CODE_11111</th>\n",
       "      <th>NAICS_CODE_111110</th>\n",
       "      <th>NAICS_CODE_11113</th>\n",
       "      <th>NAICS_CODE_111140</th>\n",
       "      <th>...</th>\n",
       "      <th>VISA_CLASS_H-1B</th>\n",
       "      <th>VISA_CLASS_H-1B1 Chile</th>\n",
       "      <th>VISA_CLASS_H-1B1 Singapore</th>\n",
       "      <th>WAGE_UNIT_OF_PAY_Bi-Weekly</th>\n",
       "      <th>WAGE_UNIT_OF_PAY_Hour</th>\n",
       "      <th>WAGE_UNIT_OF_PAY_Month</th>\n",
       "      <th>WAGE_UNIT_OF_PAY_Week</th>\n",
       "      <th>WAGE_UNIT_OF_PAY_Year</th>\n",
       "      <th>WILLFUL_VIOLATOR_N</th>\n",
       "      <th>WILLFUL_VIOLATOR_Y</th>\n",
       "    </tr>\n",
       "  </thead>\n",
       "  <tbody>\n",
       "    <tr>\n",
       "      <th>522826</th>\n",
       "      <td>7.429849e-05</td>\n",
       "      <td>True</td>\n",
       "      <td>0</td>\n",
       "      <td>1</td>\n",
       "      <td>1</td>\n",
       "      <td>0</td>\n",
       "      <td>0</td>\n",
       "      <td>0</td>\n",
       "      <td>0</td>\n",
       "      <td>0</td>\n",
       "      <td>...</td>\n",
       "      <td>1</td>\n",
       "      <td>0</td>\n",
       "      <td>0</td>\n",
       "      <td>0</td>\n",
       "      <td>0</td>\n",
       "      <td>0</td>\n",
       "      <td>0</td>\n",
       "      <td>1</td>\n",
       "      <td>1</td>\n",
       "      <td>0</td>\n",
       "    </tr>\n",
       "    <tr>\n",
       "      <th>23403</th>\n",
       "      <td>2.873440e-08</td>\n",
       "      <td>True</td>\n",
       "      <td>0</td>\n",
       "      <td>1</td>\n",
       "      <td>0</td>\n",
       "      <td>1</td>\n",
       "      <td>0</td>\n",
       "      <td>0</td>\n",
       "      <td>0</td>\n",
       "      <td>0</td>\n",
       "      <td>...</td>\n",
       "      <td>1</td>\n",
       "      <td>0</td>\n",
       "      <td>0</td>\n",
       "      <td>0</td>\n",
       "      <td>1</td>\n",
       "      <td>0</td>\n",
       "      <td>0</td>\n",
       "      <td>0</td>\n",
       "      <td>1</td>\n",
       "      <td>0</td>\n",
       "    </tr>\n",
       "    <tr>\n",
       "      <th>343450</th>\n",
       "      <td>4.698700e-05</td>\n",
       "      <td>False</td>\n",
       "      <td>0</td>\n",
       "      <td>1</td>\n",
       "      <td>1</td>\n",
       "      <td>0</td>\n",
       "      <td>0</td>\n",
       "      <td>0</td>\n",
       "      <td>0</td>\n",
       "      <td>0</td>\n",
       "      <td>...</td>\n",
       "      <td>1</td>\n",
       "      <td>0</td>\n",
       "      <td>0</td>\n",
       "      <td>0</td>\n",
       "      <td>0</td>\n",
       "      <td>0</td>\n",
       "      <td>0</td>\n",
       "      <td>1</td>\n",
       "      <td>1</td>\n",
       "      <td>0</td>\n",
       "    </tr>\n",
       "    <tr>\n",
       "      <th>387623</th>\n",
       "      <td>6.474330e-05</td>\n",
       "      <td>False</td>\n",
       "      <td>0</td>\n",
       "      <td>1</td>\n",
       "      <td>0</td>\n",
       "      <td>1</td>\n",
       "      <td>0</td>\n",
       "      <td>0</td>\n",
       "      <td>0</td>\n",
       "      <td>0</td>\n",
       "      <td>...</td>\n",
       "      <td>1</td>\n",
       "      <td>0</td>\n",
       "      <td>0</td>\n",
       "      <td>0</td>\n",
       "      <td>0</td>\n",
       "      <td>0</td>\n",
       "      <td>0</td>\n",
       "      <td>1</td>\n",
       "      <td>1</td>\n",
       "      <td>0</td>\n",
       "    </tr>\n",
       "    <tr>\n",
       "      <th>48107</th>\n",
       "      <td>9.522200e-05</td>\n",
       "      <td>False</td>\n",
       "      <td>0</td>\n",
       "      <td>1</td>\n",
       "      <td>1</td>\n",
       "      <td>0</td>\n",
       "      <td>0</td>\n",
       "      <td>0</td>\n",
       "      <td>0</td>\n",
       "      <td>0</td>\n",
       "      <td>...</td>\n",
       "      <td>0</td>\n",
       "      <td>0</td>\n",
       "      <td>0</td>\n",
       "      <td>0</td>\n",
       "      <td>0</td>\n",
       "      <td>0</td>\n",
       "      <td>0</td>\n",
       "      <td>1</td>\n",
       "      <td>1</td>\n",
       "      <td>0</td>\n",
       "    </tr>\n",
       "  </tbody>\n",
       "</table>\n",
       "<p>5 rows × 4588 columns</p>\n",
       "</div>"
      ],
      "text/plain": [
       "        PREVAILING_WAGE  WAGE_LOWER_THAN_PW  FULL_TIME_POSITION_N  \\\n",
       "522826     7.429849e-05                True                     0   \n",
       "23403      2.873440e-08                True                     0   \n",
       "343450     4.698700e-05               False                     0   \n",
       "387623     6.474330e-05               False                     0   \n",
       "48107      9.522200e-05               False                     0   \n",
       "\n",
       "        FULL_TIME_POSITION_Y  H1B_DEPENDENT_N  H1B_DEPENDENT_Y  \\\n",
       "522826                     1                1                0   \n",
       "23403                      1                0                1   \n",
       "343450                     1                1                0   \n",
       "387623                     1                0                1   \n",
       "48107                      1                1                0   \n",
       "\n",
       "        NAICS_CODE_11111  NAICS_CODE_111110  NAICS_CODE_11113  \\\n",
       "522826                 0                  0                 0   \n",
       "23403                  0                  0                 0   \n",
       "343450                 0                  0                 0   \n",
       "387623                 0                  0                 0   \n",
       "48107                  0                  0                 0   \n",
       "\n",
       "        NAICS_CODE_111140         ...          VISA_CLASS_H-1B  \\\n",
       "522826                  0         ...                        1   \n",
       "23403                   0         ...                        1   \n",
       "343450                  0         ...                        1   \n",
       "387623                  0         ...                        1   \n",
       "48107                   0         ...                        0   \n",
       "\n",
       "        VISA_CLASS_H-1B1 Chile  VISA_CLASS_H-1B1 Singapore  \\\n",
       "522826                       0                           0   \n",
       "23403                        0                           0   \n",
       "343450                       0                           0   \n",
       "387623                       0                           0   \n",
       "48107                        0                           0   \n",
       "\n",
       "        WAGE_UNIT_OF_PAY_Bi-Weekly  WAGE_UNIT_OF_PAY_Hour  \\\n",
       "522826                           0                      0   \n",
       "23403                            0                      1   \n",
       "343450                           0                      0   \n",
       "387623                           0                      0   \n",
       "48107                            0                      0   \n",
       "\n",
       "        WAGE_UNIT_OF_PAY_Month  WAGE_UNIT_OF_PAY_Week  WAGE_UNIT_OF_PAY_Year  \\\n",
       "522826                       0                      0                      1   \n",
       "23403                        0                      0                      0   \n",
       "343450                       0                      0                      1   \n",
       "387623                       0                      0                      1   \n",
       "48107                        0                      0                      1   \n",
       "\n",
       "        WILLFUL_VIOLATOR_N  WILLFUL_VIOLATOR_Y  \n",
       "522826                   1                   0  \n",
       "23403                    1                   0  \n",
       "343450                   1                   0  \n",
       "387623                   1                   0  \n",
       "48107                    1                   0  \n",
       "\n",
       "[5 rows x 4588 columns]"
      ]
     },
     "execution_count": 66,
     "metadata": {},
     "output_type": "execute_result"
    }
   ],
   "source": [
    "# print(y_train.value_counts())\n",
    "# print(y_test.value_counts())\n",
    "X_train.head()"
   ]
  },
  {
   "cell_type": "markdown",
   "metadata": {},
   "source": [
    "Train XGBoost and predict using X_test"
   ]
  },
  {
   "cell_type": "code",
   "execution_count": 67,
   "metadata": {},
   "outputs": [
    {
     "name": "stderr",
     "output_type": "stream",
     "text": [
      "/Users/ml/ml_env/lib/python2.7/site-packages/sklearn/preprocessing/label.py:151: DeprecationWarning: The truth value of an empty array is ambiguous. Returning False, but in future this will result in an error. Use `array.size > 0` to check that an array is not empty.\n",
      "  if diff:\n"
     ]
    },
    {
     "name": "stdout",
     "output_type": "stream",
     "text": [
      "0.7329642248722317\n",
      "[0 1 0 ... 0 0 1]\n"
     ]
    },
    {
     "name": "stderr",
     "output_type": "stream",
     "text": [
      "/Users/ml/ml_env/lib/python2.7/site-packages/sklearn/preprocessing/label.py:151: DeprecationWarning: The truth value of an empty array is ambiguous. Returning False, but in future this will result in an error. Use `array.size > 0` to check that an array is not empty.\n",
      "  if diff:\n"
     ]
    }
   ],
   "source": [
    "from xgboost import XGBClassifier\n",
    "xgb = XGBClassifier(random_state=99,reg_alpha=0.06, \n",
    "colsample_bytree=0.8, \n",
    "n_estimators=1000, \n",
    "subsample=0.9, \n",
    "reg_lambda=0.07, \n",
    "max_depth=3, \n",
    "gamma=2, nthread=11)\n",
    "\n",
    "xgb.fit(X_train, y_train)\n",
    "# print(xgb.feature_importances_)\n",
    "print(xgb.score(X_test, y_test))\n",
    "xgb_pred = xgb.predict(X_test)\n",
    "print(xgb_pred)"
   ]
  },
  {
   "cell_type": "code",
   "execution_count": 68,
   "metadata": {},
   "outputs": [
    {
     "name": "stdout",
     "output_type": "stream",
     "text": [
      "** XGBoost Classifier Stats (OVERALL testset)\n",
      "             precision    recall  f1-score   support\n",
      "\n",
      "          0       0.69      0.79      0.74      6637\n",
      "          1       0.79      0.68      0.73      7451\n",
      "\n",
      "avg / total       0.74      0.73      0.73     14088\n",
      "\n"
     ]
    }
   ],
   "source": [
    "from sklearn.metrics import classification_report, confusion_matrix\n",
    "print(\"** XGBoost Classifier Stats (OVERALL testset)\")\n",
    "print(classification_report(y_test, xgb_pred))"
   ]
  },
  {
   "cell_type": "markdown",
   "metadata": {},
   "source": [
    "Evaluate stats for the entire test set"
   ]
  },
  {
   "cell_type": "code",
   "execution_count": 70,
   "metadata": {},
   "outputs": [
    {
     "name": "stdout",
     "output_type": "stream",
     "text": [
      "** XGBoost Classifier Scores (OVERALL testset)\n",
      "Precision: 0.7864575244603199\n",
      "Recall: 0.6796403167360086\n",
      "Accuracy score: 0.7329642248722317\n",
      "F-1 score: 0.729157667386609\n",
      "F-beta score with beta=0.5: 0.7624898364802601\n",
      "F-beta score with beta=0.2: 0.7817320366214242\n",
      "Confusion Matrix: \n",
      "[[5262 1375]\n",
      " [2387 5064]]\n"
     ]
    }
   ],
   "source": [
    "from sklearn.metrics import precision_score, recall_score, f1_score, fbeta_score, accuracy_score, confusion_matrix\n",
    "\n",
    "print(\"** XGBoost Classifier Scores (OVERALL testset)\")\n",
    "print(\"Precision: %s\"% precision_score(y_test, xgb_pred))\n",
    "print(\"Recall: %s\"% recall_score(y_test, xgb_pred))\n",
    "print(\"Accuracy score: %s\"% accuracy_score(y_test, xgb_pred))\n",
    "print(\"F-1 score: %s\"% f1_score(y_test, xgb_pred))\n",
    "print(\"F-beta score with beta=0.5: %s\"% fbeta_score(y_test, xgb_pred, beta=0.5))\n",
    "print(\"F-beta score with beta=0.2: %s\"% fbeta_score(y_test, xgb_pred, beta=0.2))\n",
    "print(\"Confusion Matrix: \\n%s\"% confusion_matrix(y_test, xgb_pred))"
   ]
  },
  {
   "cell_type": "markdown",
   "metadata": {},
   "source": [
    "Evaluate stats for testset with label 1 (DENIED cases only)"
   ]
  },
  {
   "cell_type": "code",
   "execution_count": 71,
   "metadata": {},
   "outputs": [
    {
     "name": "stderr",
     "output_type": "stream",
     "text": [
      "/Users/ml/ml_env/lib/python2.7/site-packages/sklearn/preprocessing/label.py:151: DeprecationWarning: The truth value of an empty array is ambiguous. Returning False, but in future this will result in an error. Use `array.size > 0` to check that an array is not empty.\n",
      "  if diff:\n"
     ]
    }
   ],
   "source": [
    "import numpy as np\n",
    "ones_index = y_test.nonzero()\n",
    "x_ones = X_test.iloc[ones_index]\n",
    "y_ones = np.take(y_test, ones_index)[0]\n",
    "\n",
    "xgb_pred_oneonly = xgb.predict(x_ones)"
   ]
  },
  {
   "cell_type": "code",
   "execution_count": 72,
   "metadata": {},
   "outputs": [
    {
     "name": "stdout",
     "output_type": "stream",
     "text": [
      "** XGBoost Classifier Scores (Only rows with label DENIED->1)\n",
      "Precision: 1.0\n",
      "Recall: 0.6796403167360086\n",
      "Accuracy score: 0.6796403167360086\n",
      "F-1 score: 0.8092688773471833\n",
      "F-beta score with beta=0.5: 0.9138484859421807\n",
      "F-beta score with beta=0.2: 0.9821933443241752\n",
      "Confusion Matrix: \n",
      "[[   0    0]\n",
      " [2387 5064]]\n"
     ]
    }
   ],
   "source": [
    "print(\"** XGBoost Classifier Scores (Only rows with label DENIED->1)\")\n",
    "print(\"Precision: %s\"% precision_score(y_ones, xgb_pred_oneonly))\n",
    "print(\"Recall: %s\"% recall_score(y_ones, xgb_pred_oneonly))\n",
    "print(\"Accuracy score: %s\"% accuracy_score(y_ones, xgb_pred_oneonly))\n",
    "print(\"F-1 score: %s\"% f1_score(y_ones, xgb_pred_oneonly))\n",
    "print(\"F-beta score with beta=0.5: %s\"% fbeta_score(y_ones, xgb_pred_oneonly, beta=0.5))\n",
    "print(\"F-beta score with beta=0.2: %s\"% fbeta_score(y_ones, xgb_pred_oneonly, beta=0.2))\n",
    "print(\"Confusion Matrix: \\n%s\"% confusion_matrix(y_ones, xgb_pred_oneonly))"
   ]
  },
  {
   "cell_type": "markdown",
   "metadata": {},
   "source": [
    "Evaluate stats for testset with label 0 (CERTIFIED cases only)"
   ]
  },
  {
   "cell_type": "code",
   "execution_count": 73,
   "metadata": {},
   "outputs": [
    {
     "name": "stderr",
     "output_type": "stream",
     "text": [
      "/Users/ml/ml_env/lib/python2.7/site-packages/sklearn/preprocessing/label.py:151: DeprecationWarning: The truth value of an empty array is ambiguous. Returning False, but in future this will result in an error. Use `array.size > 0` to check that an array is not empty.\n",
      "  if diff:\n"
     ]
    }
   ],
   "source": [
    "zeros_index = np.arange(len(y_test))[(y_test==0)]\n",
    "\n",
    "x_zeros = X_test.iloc[zeros_index]\n",
    "y_zeros = np.take(y_test, zeros_index)\n",
    "xgb_pred_zeroonly = xgb.predict(x_zeros)"
   ]
  },
  {
   "cell_type": "code",
   "execution_count": 74,
   "metadata": {},
   "outputs": [
    {
     "name": "stdout",
     "output_type": "stream",
     "text": [
      "** XGBoost Classifier Scores (Only rows with label CERTIFIED->0)\n",
      "Precision: 0.0\n",
      "Recall: 0.0\n",
      "Accuracy score: 0.7928280849781528\n",
      "F-1 score: 0.0\n",
      "F-beta score with beta=0.5: 0.0\n",
      "F-beta score with beta=0.2: 0.0\n",
      "Confusion Matrix: \n",
      "[[5262 1375]\n",
      " [   0    0]]\n"
     ]
    }
   ],
   "source": [
    "print(\"** XGBoost Classifier Scores (Only rows with label CERTIFIED->0)\")\n",
    "print(\"Precision: %s\"% precision_score(y_zeros, xgb_pred_zeroonly))\n",
    "print(\"Recall: %s\"% recall_score(y_zeros, xgb_pred_zeroonly))\n",
    "print(\"Accuracy score: %s\"% accuracy_score(y_zeros, xgb_pred_zeroonly))\n",
    "print(\"F-1 score: %s\"% f1_score(y_zeros, xgb_pred_zeroonly))\n",
    "print(\"F-beta score with beta=0.5: %s\"% fbeta_score(y_zeros, xgb_pred_zeroonly, beta=0.5))\n",
    "print(\"F-beta score with beta=0.2: %s\"% fbeta_score(y_zeros, xgb_pred_zeroonly, beta=0.2))\n",
    "print(\"Confusion Matrix: \\n%s\"% confusion_matrix(y_zeros, xgb_pred_zeroonly))\n"
   ]
  },
  {
   "cell_type": "code",
   "execution_count": 75,
   "metadata": {},
   "outputs": [
    {
     "data": {
      "text/plain": [
       "datetime.datetime(2018, 12, 20, 23, 3, 2, 486473)"
      ]
     },
     "execution_count": 75,
     "metadata": {},
     "output_type": "execute_result"
    }
   ],
   "source": [
    "import datetime\n",
    "datetime.datetime.now()"
   ]
  },
  {
   "cell_type": "markdown",
   "metadata": {},
   "source": [
    "Plot ROC curve for the trained XGBoost classifier"
   ]
  },
  {
   "cell_type": "code",
   "execution_count": 81,
   "metadata": {},
   "outputs": [
    {
     "data": {
      "image/png": "[encoded data removed]",
      "text/plain": [
       "<Figure size 432x432 with 1 Axes>"
      ]
     },
     "metadata": {
      "needs_background": "light"
     },
     "output_type": "display_data"
    }
   ],
   "source": [
    "from sklearn.metrics import roc_curve, auc,recall_score,precision_score\n",
    "import seaborn as sns\n",
    "import matplotlib\n",
    "import matplotlib.pyplot as plt\n",
    "%matplotlib inline  \n",
    "\n",
    "FlasePositive, TruePositive, _ = roc_curve(y_test, xgb_pred)\n",
    "roc_auc = auc(FlasePositive, TruePositive)\n",
    "plt.figure(figsize=(6,6))\n",
    "lw = 2\n",
    "plt.plot(fpr, tpr, color='red',\n",
    "             lw=lw, label='ROC curve (area = %0.2f)' % roc_auc)\n",
    "plt.plot([0, 1], [0, 1], color='navy', lw=lw, linestyle='--')\n",
    "plt.xlim([0.0, 1.0])\n",
    "plt.ylim([0.0, 1.0])\n",
    "plt.xlabel('False-Positive Rate')\n",
    "plt.ylabel('True-Positive Rate')\n",
    "plt.title('ROC curve')\n",
    "plt.legend(loc=\"best\")\n",
    "plt.show()"
   ]
  },
  {
   "cell_type": "markdown",
   "metadata": {},
   "source": [
    "Plot feature importance (top 25) of encoded features in a horizontal bar chart"
   ]
  },
  {
   "cell_type": "code",
   "execution_count": 77,
   "metadata": {},
   "outputs": [],
   "source": [
    "importances = []\n",
    "# = xgb.feature_importances_\n",
    "\n",
    "\n",
    "\n",
    "\n",
    "import operator\n",
    "nonzero_features = {}\n",
    "for i in range(len(xgb.feature_importances_)):\n",
    "    if xgb.feature_importances_[i] > 0.0:\n",
    "        nonzero_features[list(X_train.columns)[i]] = xgb.feature_importances_[i]\n",
    "sorted_result = sorted(nonzero_features.items(), key=operator.itemgetter(1)) "
   ]
  },
  {
   "cell_type": "code",
   "execution_count": 88,
   "metadata": {},
   "outputs": [
    {
     "data": {
      "text/plain": [
       "Text(0.5,0,'Feature Importance')"
      ]
     },
     "execution_count": 88,
     "metadata": {},
     "output_type": "execute_result"
    },
    {
     "data": {
      "image/png": "[encoded data removed]",
      "text/plain": [
       "<Figure size 432x432 with 1 Axes>"
      ]
     },
     "metadata": {
      "needs_background": "light"
     },
     "output_type": "display_data"
    }
   ],
   "source": [
    "for i in range(len(sorted_result)):\n",
    "    importances.append(sorted_result[-(i+1)])\n",
    "    \n",
    "fi = pd.DataFrame(importances, columns=['Feature Name', 'Feature Importance'])\n",
    "fi = fi.set_index(\"Feature Name\")\n",
    "fi.iloc[:25].plot(kind='barh', figsize=(6,6)).invert_yaxis()\n",
    "plt.legend(loc=\"lower right\")\n",
    "plt.title('Feature Name vs Feature Importance')\n",
    "plt.xlabel('Feature Importance')"
   ]
  },
  {
   "cell_type": "code",
   "execution_count": 79,
   "metadata": {},
   "outputs": [
    {
     "data": {
      "text/html": [
       "<div>\n",
       "<style scoped>\n",
       "    .dataframe tbody tr th:only-of-type {\n",
       "        vertical-align: middle;\n",
       "    }\n",
       "\n",
       "    .dataframe tbody tr th {\n",
       "        vertical-align: top;\n",
       "    }\n",
       "\n",
       "    .dataframe thead th {\n",
       "        text-align: right;\n",
       "    }\n",
       "</style>\n",
       "<table border=\"1\" class=\"dataframe\">\n",
       "  <thead>\n",
       "    <tr style=\"text-align: right;\">\n",
       "      <th></th>\n",
       "      <th>Feature Importance</th>\n",
       "    </tr>\n",
       "    <tr>\n",
       "      <th>Feature Name</th>\n",
       "      <th></th>\n",
       "    </tr>\n",
       "  </thead>\n",
       "  <tbody>\n",
       "    <tr>\n",
       "      <th>VISA_CLASS_E-3 Australian</th>\n",
       "      <td>0.163807</td>\n",
       "    </tr>\n",
       "    <tr>\n",
       "      <th>WAGE_LOWER_THAN_PW</th>\n",
       "      <td>0.102319</td>\n",
       "    </tr>\n",
       "    <tr>\n",
       "      <th>VISA_CLASS_H-1B</th>\n",
       "      <td>0.061466</td>\n",
       "    </tr>\n",
       "    <tr>\n",
       "      <th>H1B_DEPENDENT_Y</th>\n",
       "      <td>0.055425</td>\n",
       "    </tr>\n",
       "    <tr>\n",
       "      <th>H1B_DEPENDENT_N</th>\n",
       "      <td>0.046282</td>\n",
       "    </tr>\n",
       "    <tr>\n",
       "      <th>NAICS_CODE_541511</th>\n",
       "      <td>0.019563</td>\n",
       "    </tr>\n",
       "    <tr>\n",
       "      <th>PW_SOURCE_Other</th>\n",
       "      <td>0.011944</td>\n",
       "    </tr>\n",
       "    <tr>\n",
       "      <th>PW_SOURCE_OES</th>\n",
       "      <td>0.005640</td>\n",
       "    </tr>\n",
       "    <tr>\n",
       "      <th>NAICS_CODE_CAPGEMINIAMERICAINC</th>\n",
       "      <td>0.005309</td>\n",
       "    </tr>\n",
       "    <tr>\n",
       "      <th>NAICS_CODE_611310</th>\n",
       "      <td>0.004690</td>\n",
       "    </tr>\n",
       "    <tr>\n",
       "      <th>NAICS_CODE_51121</th>\n",
       "      <td>0.003846</td>\n",
       "    </tr>\n",
       "    <tr>\n",
       "      <th>PREVAILING_WAGE</th>\n",
       "      <td>0.003720</td>\n",
       "    </tr>\n",
       "    <tr>\n",
       "      <th>NAICS_CODE_54151</th>\n",
       "      <td>0.003547</td>\n",
       "    </tr>\n",
       "    <tr>\n",
       "      <th>WAGE_UNIT_OF_PAY_Hour</th>\n",
       "      <td>0.003368</td>\n",
       "    </tr>\n",
       "    <tr>\n",
       "      <th>SOC_CODE_15-1132</th>\n",
       "      <td>0.003289</td>\n",
       "    </tr>\n",
       "    <tr>\n",
       "      <th>SOC_CODE_11-1021</th>\n",
       "      <td>0.003241</td>\n",
       "    </tr>\n",
       "    <tr>\n",
       "      <th>NAICS_CODE_334220</th>\n",
       "      <td>0.003135</td>\n",
       "    </tr>\n",
       "    <tr>\n",
       "      <th>SOC_CODE_29-1069</th>\n",
       "      <td>0.003029</td>\n",
       "    </tr>\n",
       "    <tr>\n",
       "      <th>SOC_CODE_23-1011</th>\n",
       "      <td>0.002952</td>\n",
       "    </tr>\n",
       "    <tr>\n",
       "      <th>WAGE_UNIT_OF_PAY_Month</th>\n",
       "      <td>0.002904</td>\n",
       "    </tr>\n",
       "    <tr>\n",
       "      <th>SOC_CODE_19-1029</th>\n",
       "      <td>0.002861</td>\n",
       "    </tr>\n",
       "    <tr>\n",
       "      <th>SOC_CODE_19-1042</th>\n",
       "      <td>0.002660</td>\n",
       "    </tr>\n",
       "    <tr>\n",
       "      <th>SOC_CODE_15-2041</th>\n",
       "      <td>0.002487</td>\n",
       "    </tr>\n",
       "    <tr>\n",
       "      <th>NAICS_CODE_518112</th>\n",
       "      <td>0.002469</td>\n",
       "    </tr>\n",
       "    <tr>\n",
       "      <th>NAICS_CODE_561310</th>\n",
       "      <td>0.002448</td>\n",
       "    </tr>\n",
       "    <tr>\n",
       "      <th>SOC_CODE_15-1121</th>\n",
       "      <td>0.002395</td>\n",
       "    </tr>\n",
       "    <tr>\n",
       "      <th>NAICS_CODE_541512</th>\n",
       "      <td>0.002392</td>\n",
       "    </tr>\n",
       "    <tr>\n",
       "      <th>SOC_CODE_15-1199</th>\n",
       "      <td>0.002302</td>\n",
       "    </tr>\n",
       "    <tr>\n",
       "      <th>SOC_CODE_15-1134</th>\n",
       "      <td>0.002260</td>\n",
       "    </tr>\n",
       "    <tr>\n",
       "      <th>NAICS_CODE_454111</th>\n",
       "      <td>0.002222</td>\n",
       "    </tr>\n",
       "    <tr>\n",
       "      <th>NAICS_CODE_541211</th>\n",
       "      <td>0.002154</td>\n",
       "    </tr>\n",
       "    <tr>\n",
       "      <th>FULL_TIME_POSITION_N</th>\n",
       "      <td>0.002075</td>\n",
       "    </tr>\n",
       "    <tr>\n",
       "      <th>PW_SOURCE_SCA</th>\n",
       "      <td>0.002043</td>\n",
       "    </tr>\n",
       "    <tr>\n",
       "      <th>NAICS_CODE_722511</th>\n",
       "      <td>0.002033</td>\n",
       "    </tr>\n",
       "    <tr>\n",
       "      <th>NAICS_CODE_54161</th>\n",
       "      <td>0.002026</td>\n",
       "    </tr>\n",
       "    <tr>\n",
       "      <th>SOC_CODE_11-9021</th>\n",
       "      <td>0.002006</td>\n",
       "    </tr>\n",
       "    <tr>\n",
       "      <th>NAICS_CODE_452910</th>\n",
       "      <td>0.001989</td>\n",
       "    </tr>\n",
       "    <tr>\n",
       "      <th>NAICS_CODE_541110</th>\n",
       "      <td>0.001981</td>\n",
       "    </tr>\n",
       "    <tr>\n",
       "      <th>NAICS_CODE_54133</th>\n",
       "      <td>0.001977</td>\n",
       "    </tr>\n",
       "    <tr>\n",
       "      <th>NAICS_CODE_551112</th>\n",
       "      <td>0.001973</td>\n",
       "    </tr>\n",
       "    <tr>\n",
       "      <th>SOC_CODE_23-2011</th>\n",
       "      <td>0.001971</td>\n",
       "    </tr>\n",
       "    <tr>\n",
       "      <th>SOC_CODE_13-1051</th>\n",
       "      <td>0.001958</td>\n",
       "    </tr>\n",
       "    <tr>\n",
       "      <th>SOC_CODE_15-1131</th>\n",
       "      <td>0.001934</td>\n",
       "    </tr>\n",
       "    <tr>\n",
       "      <th>NAICS_CODE_523110</th>\n",
       "      <td>0.001933</td>\n",
       "    </tr>\n",
       "    <tr>\n",
       "      <th>NAICS_CODE_54111</th>\n",
       "      <td>0.001902</td>\n",
       "    </tr>\n",
       "    <tr>\n",
       "      <th>NAICS_CODE_54194</th>\n",
       "      <td>0.001850</td>\n",
       "    </tr>\n",
       "    <tr>\n",
       "      <th>WAGE_UNIT_OF_PAY_Week</th>\n",
       "      <td>0.001826</td>\n",
       "    </tr>\n",
       "    <tr>\n",
       "      <th>SOC_CODE_19-4021</th>\n",
       "      <td>0.001818</td>\n",
       "    </tr>\n",
       "    <tr>\n",
       "      <th>SOC_CODE_29-2011</th>\n",
       "      <td>0.001812</td>\n",
       "    </tr>\n",
       "    <tr>\n",
       "      <th>PW_SOURCE_CBA</th>\n",
       "      <td>0.001805</td>\n",
       "    </tr>\n",
       "    <tr>\n",
       "      <th>SOC_CODE_19-1021</th>\n",
       "      <td>0.001799</td>\n",
       "    </tr>\n",
       "    <tr>\n",
       "      <th>SOC_CODE_11-1011</th>\n",
       "      <td>0.001779</td>\n",
       "    </tr>\n",
       "    <tr>\n",
       "      <th>SOC_CODE_25-2031</th>\n",
       "      <td>0.001761</td>\n",
       "    </tr>\n",
       "    <tr>\n",
       "      <th>NAICS_CODE_541600</th>\n",
       "      <td>0.001759</td>\n",
       "    </tr>\n",
       "    <tr>\n",
       "      <th>NAICS_CODE_541510</th>\n",
       "      <td>0.001627</td>\n",
       "    </tr>\n",
       "    <tr>\n",
       "      <th>SOC_CODE_11-2021</th>\n",
       "      <td>0.001595</td>\n",
       "    </tr>\n",
       "    <tr>\n",
       "      <th>NAICS_CODE_336111</th>\n",
       "      <td>0.001589</td>\n",
       "    </tr>\n",
       "    <tr>\n",
       "      <th>NAICS_CODE_541690</th>\n",
       "      <td>0.001567</td>\n",
       "    </tr>\n",
       "    <tr>\n",
       "      <th>NAICS_CODE_NCSPEARSONINC</th>\n",
       "      <td>0.001553</td>\n",
       "    </tr>\n",
       "    <tr>\n",
       "      <th>SOC_CODE_11-9051</th>\n",
       "      <td>0.001551</td>\n",
       "    </tr>\n",
       "  </tbody>\n",
       "</table>\n",
       "</div>"
      ],
      "text/plain": [
       "                                Feature Importance\n",
       "Feature Name                                      \n",
       "VISA_CLASS_E-3 Australian                 0.163807\n",
       "WAGE_LOWER_THAN_PW                        0.102319\n",
       "VISA_CLASS_H-1B                           0.061466\n",
       "H1B_DEPENDENT_Y                           0.055425\n",
       "H1B_DEPENDENT_N                           0.046282\n",
       "NAICS_CODE_541511                         0.019563\n",
       "PW_SOURCE_Other                           0.011944\n",
       "PW_SOURCE_OES                             0.005640\n",
       "NAICS_CODE_CAPGEMINIAMERICAINC            0.005309\n",
       "NAICS_CODE_611310                         0.004690\n",
       "NAICS_CODE_51121                          0.003846\n",
       "PREVAILING_WAGE                           0.003720\n",
       "NAICS_CODE_54151                          0.003547\n",
       "WAGE_UNIT_OF_PAY_Hour                     0.003368\n",
       "SOC_CODE_15-1132                          0.003289\n",
       "SOC_CODE_11-1021                          0.003241\n",
       "NAICS_CODE_334220                         0.003135\n",
       "SOC_CODE_29-1069                          0.003029\n",
       "SOC_CODE_23-1011                          0.002952\n",
       "WAGE_UNIT_OF_PAY_Month                    0.002904\n",
       "SOC_CODE_19-1029                          0.002861\n",
       "SOC_CODE_19-1042                          0.002660\n",
       "SOC_CODE_15-2041                          0.002487\n",
       "NAICS_CODE_518112                         0.002469\n",
       "NAICS_CODE_561310                         0.002448\n",
       "SOC_CODE_15-1121                          0.002395\n",
       "NAICS_CODE_541512                         0.002392\n",
       "SOC_CODE_15-1199                          0.002302\n",
       "SOC_CODE_15-1134                          0.002260\n",
       "NAICS_CODE_454111                         0.002222\n",
       "NAICS_CODE_541211                         0.002154\n",
       "FULL_TIME_POSITION_N                      0.002075\n",
       "PW_SOURCE_SCA                             0.002043\n",
       "NAICS_CODE_722511                         0.002033\n",
       "NAICS_CODE_54161                          0.002026\n",
       "SOC_CODE_11-9021                          0.002006\n",
       "NAICS_CODE_452910                         0.001989\n",
       "NAICS_CODE_541110                         0.001981\n",
       "NAICS_CODE_54133                          0.001977\n",
       "NAICS_CODE_551112                         0.001973\n",
       "SOC_CODE_23-2011                          0.001971\n",
       "SOC_CODE_13-1051                          0.001958\n",
       "SOC_CODE_15-1131                          0.001934\n",
       "NAICS_CODE_523110                         0.001933\n",
       "NAICS_CODE_54111                          0.001902\n",
       "NAICS_CODE_54194                          0.001850\n",
       "WAGE_UNIT_OF_PAY_Week                     0.001826\n",
       "SOC_CODE_19-4021                          0.001818\n",
       "SOC_CODE_29-2011                          0.001812\n",
       "PW_SOURCE_CBA                             0.001805\n",
       "SOC_CODE_19-1021                          0.001799\n",
       "SOC_CODE_11-1011                          0.001779\n",
       "SOC_CODE_25-2031                          0.001761\n",
       "NAICS_CODE_541600                         0.001759\n",
       "NAICS_CODE_541510                         0.001627\n",
       "SOC_CODE_11-2021                          0.001595\n",
       "NAICS_CODE_336111                         0.001589\n",
       "NAICS_CODE_541690                         0.001567\n",
       "NAICS_CODE_NCSPEARSONINC                  0.001553\n",
       "SOC_CODE_11-9051                          0.001551"
      ]
     },
     "execution_count": 79,
     "metadata": {},
     "output_type": "execute_result"
    }
   ],
   "source": [
    "fi.head(60)"
   ]
  }
 ],
 "metadata": {
  "kernelspec": {
   "display_name": "Python 2",
   "language": "python",
   "name": "python2"
  },
  "language_info": {
   "codemirror_mode": {
    "name": "ipython",
    "version": 2
   },
   "file_extension": ".py",
   "mimetype": "text/x-python",
   "name": "python",
   "nbconvert_exporter": "python",
   "pygments_lexer": "ipython2",
   "version": "2.7.10"
  }
 },
 "nbformat": 4,
 "nbformat_minor": 2
}
