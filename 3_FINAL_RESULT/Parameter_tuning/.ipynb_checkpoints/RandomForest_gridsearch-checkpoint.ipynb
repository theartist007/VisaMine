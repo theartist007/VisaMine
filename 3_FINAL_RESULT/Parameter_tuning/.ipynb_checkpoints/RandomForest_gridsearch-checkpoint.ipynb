{
 "cells": [
  {
   "cell_type": "code",
   "execution_count": 36,
   "metadata": {},
   "outputs": [],
   "source": [
    "import pandas as pd\n",
    "from sklearn.model_selection import train_test_split\n",
    "from sklearn.preprocessing import MinMaxScaler\n",
    "from sklearn.preprocessing import LabelEncoder"
   ]
  },
  {
   "cell_type": "markdown",
   "metadata": {},
   "source": [
    "Load cleaned up version of dataset from 2015 to 2018.  Drop geographic information about employer and worksite to reduce dimensionality"
   ]
  },
  {
   "cell_type": "code",
   "execution_count": 37,
   "metadata": {},
   "outputs": [],
   "source": [
    "df = pd.read_pickle('/Users/ml/Desktop/Udacity_ML_Capstone/data/H1B_15-18_second.pickle')\n",
    "df.drop(columns=['EMPLOYER_CITY','JOB_TITLE','EMPLOYER_NAME'], inplace=True)\n",
    "df.drop(columns=['EMPLOYER_STATE','WORKSITE_STATE'], inplace=True)\n"
   ]
  },
  {
   "cell_type": "code",
   "execution_count": 38,
   "metadata": {},
   "outputs": [],
   "source": [
    "# len(df.EMPLOYER_NAME.unique())"
   ]
  },
  {
   "cell_type": "markdown",
   "metadata": {},
   "source": [
    "Show first 5 lines of the dataset"
   ]
  },
  {
   "cell_type": "code",
   "execution_count": 39,
   "metadata": {},
   "outputs": [],
   "source": [
    "ones_df = df[df['CASE_STATUS']=='DENIED']\n",
    "zeros_df = df[df['CASE_STATUS']=='CERTIFIED']\n",
    "df = pd.concat([ones_df, zeros_df.sample(frac=0.02, random_state=99)])\n"
   ]
  },
  {
   "cell_type": "code",
   "execution_count": 40,
   "metadata": {},
   "outputs": [
    {
     "name": "stdout",
     "output_type": "stream",
     "text": [
      "(37274, 11)\n"
     ]
    }
   ],
   "source": [
    "ones_df.head()\n",
    "print(ones_df.shape)"
   ]
  },
  {
   "cell_type": "code",
   "execution_count": 41,
   "metadata": {},
   "outputs": [
    {
     "name": "stdout",
     "output_type": "stream",
     "text": [
      "(1489240, 11)\n"
     ]
    }
   ],
   "source": [
    "zeros_df.head()\n",
    "print(zeros_df.shape)"
   ]
  },
  {
   "cell_type": "markdown",
   "metadata": {},
   "source": [
    "We will use column 'CASE_STATUS' as our label.  DENIED will be 1 and CERTIFIED will be 0 after it gets incoded by label_encoder.\n",
    "\n",
    "Normalize PREVAILING_WAGE using minmax scaler since it varies quite a bit."
   ]
  },
  {
   "cell_type": "code",
   "execution_count": 42,
   "metadata": {},
   "outputs": [],
   "source": [
    "scaler = MinMaxScaler()\n",
    "X = df.drop(columns='CASE_STATUS')\n",
    "\n",
    "label_encoder = LabelEncoder()\n",
    "y = label_encoder.fit_transform(df['CASE_STATUS'])\n",
    "\n",
    "X[['PREVAILING_WAGE']] = scaler.fit_transform(X[['PREVAILING_WAGE']])\n",
    "X = pd.get_dummies(X)"
   ]
  },
  {
   "cell_type": "markdown",
   "metadata": {},
   "source": [
    "Train RandomForestClassifier and specify parameters to tune.  Run randomized search for 50 iterations"
   ]
  },
  {
   "cell_type": "code",
   "execution_count": 47,
   "metadata": {},
   "outputs": [],
   "source": [
    "from sklearn.ensemble import RandomForestClassifier\n",
    "from sklearn.model_selection import GridSearchCV\n",
    "from sklearn.model_selection import RandomizedSearchCV\n",
    "\n",
    "# from sklearn.feature_extraction.text import CountVectorizer\n",
    "\n",
    "rfc = RandomForestClassifier()\n",
    "# vec = CountVectorizer()\n",
    "# X_train_t = vec.fit_transform(X_train)\n",
    "\n",
    "# rfc.fit(X, y)\n",
    "\n",
    "params = {'n_estimators': list(range(10,300,40)),\n",
    "'max_depth': list(range(10,100,10)),\n",
    "'max_features': list(range(2,20,2)),\n",
    "# 'min_samples_leaf': list(range(3,10,2)),\n",
    "# 'min_samples_split': list(range(5,15,3)),\n",
    "#           'bootstrap': [True, False]\n",
    "}\n",
    "\n",
    "from time import time\n",
    "start = time()\n",
    "\n",
    "# run grid search\n",
    "n_iter_search = 50\n",
    "# grid_search = GridSearchCV(rfc, param_grid=params, cv=5)\n",
    "random_search = RandomizedSearchCV(rfc, param_distributions=params, scoring='accuracy',\n",
    "                                   n_iter=n_iter_search, cv=5)\n",
    "\n",
    "\n",
    "random_search.fit(X, y)\n",
    "endtime= time()"
   ]
  },
  {
   "cell_type": "code",
   "execution_count": 48,
   "metadata": {},
   "outputs": [
    {
     "name": "stdout",
     "output_type": "stream",
     "text": [
      "RandomizedSearchCV took 15877.32 seconds for 50 candidates parameter settings.\n",
      "Model with rank: 1\n",
      "Mean validation score: 0.712 (std: 0.015)\n",
      "Parameters: {'n_estimators': 290, 'max_features': 18, 'max_depth': 80}\n",
      "\n",
      "Model with rank: 2\n",
      "Mean validation score: 0.711 (std: 0.016)\n",
      "Parameters: {'n_estimators': 170, 'max_features': 18, 'max_depth': 80}\n",
      "\n",
      "Model with rank: 3\n",
      "Mean validation score: 0.710 (std: 0.015)\n",
      "Parameters: {'n_estimators': 170, 'max_features': 14, 'max_depth': 90}\n",
      "\n",
      "Model with rank: 4\n",
      "Mean validation score: 0.707 (std: 0.015)\n",
      "Parameters: {'n_estimators': 90, 'max_features': 14, 'max_depth': 90}\n",
      "\n",
      "Model with rank: 4\n",
      "Mean validation score: 0.707 (std: 0.016)\n",
      "Parameters: {'n_estimators': 90, 'max_features': 18, 'max_depth': 70}\n",
      "\n",
      "Model with rank: 6\n",
      "Mean validation score: 0.707 (std: 0.016)\n",
      "Parameters: {'n_estimators': 90, 'max_features': 12, 'max_depth': 90}\n",
      "\n",
      "Model with rank: 7\n",
      "Mean validation score: 0.707 (std: 0.015)\n",
      "Parameters: {'n_estimators': 50, 'max_features': 18, 'max_depth': 70}\n",
      "\n",
      "Model with rank: 8\n",
      "Mean validation score: 0.706 (std: 0.014)\n",
      "Parameters: {'n_estimators': 170, 'max_features': 18, 'max_depth': 70}\n",
      "\n",
      "Model with rank: 9\n",
      "Mean validation score: 0.703 (std: 0.015)\n",
      "Parameters: {'n_estimators': 90, 'max_features': 14, 'max_depth': 70}\n",
      "\n",
      "Model with rank: 10\n",
      "Mean validation score: 0.699 (std: 0.011)\n",
      "Parameters: {'n_estimators': 90, 'max_features': 14, 'max_depth': 60}\n",
      "\n",
      "Model with rank: 11\n",
      "Mean validation score: 0.696 (std: 0.013)\n",
      "Parameters: {'n_estimators': 130, 'max_features': 18, 'max_depth': 50}\n",
      "\n",
      "Model with rank: 12\n",
      "Mean validation score: 0.694 (std: 0.014)\n",
      "Parameters: {'n_estimators': 130, 'max_features': 12, 'max_depth': 70}\n",
      "\n",
      "Model with rank: 13\n",
      "Mean validation score: 0.691 (std: 0.017)\n",
      "Parameters: {'n_estimators': 10, 'max_features': 14, 'max_depth': 60}\n",
      "\n",
      "Model with rank: 14\n",
      "Mean validation score: 0.691 (std: 0.014)\n",
      "Parameters: {'n_estimators': 130, 'max_features': 10, 'max_depth': 70}\n",
      "\n",
      "Model with rank: 15\n",
      "Mean validation score: 0.690 (std: 0.013)\n",
      "Parameters: {'n_estimators': 210, 'max_features': 10, 'max_depth': 70}\n",
      "\n",
      "Model with rank: 16\n",
      "Mean validation score: 0.690 (std: 0.014)\n",
      "Parameters: {'n_estimators': 250, 'max_features': 16, 'max_depth': 50}\n",
      "\n",
      "Model with rank: 17\n",
      "Mean validation score: 0.689 (std: 0.015)\n",
      "Parameters: {'n_estimators': 290, 'max_features': 12, 'max_depth': 60}\n",
      "\n",
      "Model with rank: 18\n",
      "Mean validation score: 0.687 (std: 0.013)\n",
      "Parameters: {'n_estimators': 250, 'max_features': 14, 'max_depth': 50}\n",
      "\n",
      "Model with rank: 19\n",
      "Mean validation score: 0.685 (std: 0.015)\n",
      "Parameters: {'n_estimators': 250, 'max_features': 6, 'max_depth': 90}\n",
      "\n",
      "Model with rank: 20\n",
      "Mean validation score: 0.683 (std: 0.012)\n",
      "Parameters: {'n_estimators': 210, 'max_features': 16, 'max_depth': 40}\n",
      "\n",
      "Model with rank: 21\n",
      "Mean validation score: 0.680 (std: 0.018)\n",
      "Parameters: {'n_estimators': 10, 'max_features': 12, 'max_depth': 60}\n",
      "\n",
      "Model with rank: 22\n",
      "Mean validation score: 0.678 (std: 0.008)\n",
      "Parameters: {'n_estimators': 90, 'max_features': 12, 'max_depth': 40}\n",
      "\n",
      "Model with rank: 23\n",
      "Mean validation score: 0.677 (std: 0.010)\n",
      "Parameters: {'n_estimators': 250, 'max_features': 10, 'max_depth': 50}\n",
      "\n",
      "Model with rank: 24\n",
      "Mean validation score: 0.674 (std: 0.011)\n",
      "Parameters: {'n_estimators': 250, 'max_features': 16, 'max_depth': 30}\n",
      "\n",
      "Model with rank: 25\n",
      "Mean validation score: 0.673 (std: 0.011)\n",
      "Parameters: {'n_estimators': 170, 'max_features': 16, 'max_depth': 30}\n",
      "\n",
      "Model with rank: 26\n",
      "Mean validation score: 0.668 (std: 0.013)\n",
      "Parameters: {'n_estimators': 50, 'max_features': 8, 'max_depth': 50}\n",
      "\n",
      "Model with rank: 27\n",
      "Mean validation score: 0.667 (std: 0.007)\n",
      "Parameters: {'n_estimators': 290, 'max_features': 4, 'max_depth': 80}\n",
      "\n",
      "Model with rank: 28\n",
      "Mean validation score: 0.663 (std: 0.016)\n",
      "Parameters: {'n_estimators': 210, 'max_features': 10, 'max_depth': 40}\n",
      "\n",
      "Model with rank: 29\n",
      "Mean validation score: 0.661 (std: 0.007)\n",
      "Parameters: {'n_estimators': 290, 'max_features': 12, 'max_depth': 30}\n",
      "\n",
      "Model with rank: 30\n",
      "Mean validation score: 0.659 (std: 0.012)\n",
      "Parameters: {'n_estimators': 290, 'max_features': 4, 'max_depth': 70}\n",
      "\n"
     ]
    }
   ],
   "source": [
    "import numpy as np\n",
    "def report(results, n_top=30):\n",
    "    for i in range(1, n_top + 1):\n",
    "        candidates = np.flatnonzero(results['rank_test_score'] == i)\n",
    "        for candidate in candidates:\n",
    "            print(\"Model with rank: {0}\".format(i))\n",
    "            print(\"Mean validation score: {0:.3f} (std: {1:.3f})\".format(\n",
    "                  results['mean_test_score'][candidate],\n",
    "                  results['std_test_score'][candidate]))\n",
    "            print(\"Parameters: {0}\".format(results['params'][candidate]))\n",
    "            print(\"\")\n",
    "\n",
    "print(\"RandomizedSearchCV took %.2f seconds for %d candidates\"\n",
    "      \" parameter settings.\" % ((endtime - start), n_iter_search))\n",
    "report(random_search.cv_results_)"
   ]
  },
  {
   "cell_type": "code",
   "execution_count": 25,
   "metadata": {},
   "outputs": [],
   "source": [
    "import pickle\n",
    "with open('random_search_result_accuracy.pickle', 'wb') as f:\n",
    "    pickle.dump(random_search, f, protocol=pickle.HIGHEST_PROTOCOL) "
   ]
  },
  {
   "cell_type": "code",
   "execution_count": 26,
   "metadata": {},
   "outputs": [
    {
     "name": "stdout",
     "output_type": "stream",
     "text": [
      "[0.61511297 0.61511297 0.61513362 0.61511297 0.61511297 0.61511297\n",
      " 0.61746727 0.61513362 0.61511297 0.61511297 0.61511297 0.61511297\n",
      " 0.61511297 0.61511297 0.61948081 0.61512329 0.61577382 0.61535046\n",
      " 0.61515427 0.61514394 0.61511297 0.61622816 0.61526785 0.61512329\n",
      " 0.61511297 0.61511297 0.61511297 0.61511297 0.61511297 0.61511297\n",
      " 0.61511297 0.61511297 0.61537111 0.61512329 0.61511297 0.61511297\n",
      " 0.61511297 0.61540209 0.61530916 0.61511297 0.61511297 0.61511297\n",
      " 0.61511297 0.61534013 0.61511297 0.61514394 0.61511297 0.61511297\n",
      " 0.61511297 0.61511297]\n"
     ]
    }
   ],
   "source": [
    "print(random_search.cv_results_['mean_test_score'])"
   ]
  }
 ],
 "metadata": {
  "kernelspec": {
   "display_name": "Python 2",
   "language": "python",
   "name": "python2"
  },
  "language_info": {
   "codemirror_mode": {
    "name": "ipython",
    "version": 2
   },
   "file_extension": ".py",
   "mimetype": "text/x-python",
   "name": "python",
   "nbconvert_exporter": "python",
   "pygments_lexer": "ipython2",
   "version": "2.7.10"
  }
 },
 "nbformat": 4,
 "nbformat_minor": 2
}
