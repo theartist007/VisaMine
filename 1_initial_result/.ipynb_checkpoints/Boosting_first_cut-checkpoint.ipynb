{
 "cells": [
  {
   "cell_type": "code",
   "execution_count": 1,
   "metadata": {},
   "outputs": [],
   "source": [
    "import pandas as pd\n",
    "from sklearn.model_selection import train_test_split\n",
    "from sklearn.preprocessing import MinMaxScaler\n",
    "from sklearn.preprocessing import LabelEncoder"
   ]
  },
  {
   "cell_type": "markdown",
   "metadata": {},
   "source": [
    "Load cleaned up version of dataset from 2015 to 2018.  Drop geographic information about employer and worksite to reduce dimensionality"
   ]
  },
  {
   "cell_type": "code",
   "execution_count": 2,
   "metadata": {},
   "outputs": [],
   "source": [
    "df = pd.read_pickle('/Users/ml/Desktop/Udacity_ML_Capstone/data/H1B_15-18_FINAL.pickle')\n",
    "df.drop(columns=['EMPLOYER_CITY'], inplace=True)\n",
    "df.drop(columns=['EMPLOYER_STATE','WORKSITE_STATE'], inplace=True)"
   ]
  },
  {
   "cell_type": "markdown",
   "metadata": {},
   "source": [
    "Show first 5 lines of the dataset"
   ]
  },
  {
   "cell_type": "code",
   "execution_count": 3,
   "metadata": {},
   "outputs": [
    {
     "data": {
      "text/html": [
       "<div>\n",
       "<style scoped>\n",
       "    .dataframe tbody tr th:only-of-type {\n",
       "        vertical-align: middle;\n",
       "    }\n",
       "\n",
       "    .dataframe tbody tr th {\n",
       "        vertical-align: top;\n",
       "    }\n",
       "\n",
       "    .dataframe thead th {\n",
       "        text-align: right;\n",
       "    }\n",
       "</style>\n",
       "<table border=\"1\" class=\"dataframe\">\n",
       "  <thead>\n",
       "    <tr style=\"text-align: right;\">\n",
       "      <th></th>\n",
       "      <th>CASE_STATUS</th>\n",
       "      <th>FULL_TIME_POSITION</th>\n",
       "      <th>H1B_DEPENDENT</th>\n",
       "      <th>NAICS_CODE</th>\n",
       "      <th>PREVAILING_WAGE</th>\n",
       "      <th>PW_SOURCE</th>\n",
       "      <th>SOC_CODE</th>\n",
       "      <th>VISA_CLASS</th>\n",
       "      <th>WAGE_UNIT_OF_PAY</th>\n",
       "      <th>WILLFUL_VIOLATOR</th>\n",
       "      <th>WAGE_LOWER_THAN_PW</th>\n",
       "    </tr>\n",
       "  </thead>\n",
       "  <tbody>\n",
       "    <tr>\n",
       "      <th>3</th>\n",
       "      <td>CERTIFIED</td>\n",
       "      <td>Y</td>\n",
       "      <td>N</td>\n",
       "      <td>335314</td>\n",
       "      <td>70413.266200</td>\n",
       "      <td>OES</td>\n",
       "      <td>17-2072</td>\n",
       "      <td>H-1B</td>\n",
       "      <td>Year</td>\n",
       "      <td>N</td>\n",
       "      <td>False</td>\n",
       "    </tr>\n",
       "    <tr>\n",
       "      <th>4</th>\n",
       "      <td>CERTIFIED</td>\n",
       "      <td>Y</td>\n",
       "      <td>N</td>\n",
       "      <td>522294</td>\n",
       "      <td>103390.078300</td>\n",
       "      <td>OES</td>\n",
       "      <td>15-1131</td>\n",
       "      <td>H-1B</td>\n",
       "      <td>Year</td>\n",
       "      <td>N</td>\n",
       "      <td>False</td>\n",
       "    </tr>\n",
       "    <tr>\n",
       "      <th>7</th>\n",
       "      <td>CERTIFIED</td>\n",
       "      <td>Y</td>\n",
       "      <td>N</td>\n",
       "      <td>522294</td>\n",
       "      <td>68372.286500</td>\n",
       "      <td>OES</td>\n",
       "      <td>15-2031</td>\n",
       "      <td>H-1B</td>\n",
       "      <td>Year</td>\n",
       "      <td>N</td>\n",
       "      <td>False</td>\n",
       "    </tr>\n",
       "    <tr>\n",
       "      <th>9</th>\n",
       "      <td>DENIED</td>\n",
       "      <td>N</td>\n",
       "      <td>N</td>\n",
       "      <td>424460</td>\n",
       "      <td>23.962574</td>\n",
       "      <td>Other</td>\n",
       "      <td>13-2011</td>\n",
       "      <td>H-1B</td>\n",
       "      <td>Hour</td>\n",
       "      <td>N</td>\n",
       "      <td>False</td>\n",
       "    </tr>\n",
       "    <tr>\n",
       "      <th>11</th>\n",
       "      <td>DENIED</td>\n",
       "      <td>Y</td>\n",
       "      <td>N</td>\n",
       "      <td>541330</td>\n",
       "      <td>368080.500000</td>\n",
       "      <td>DBA</td>\n",
       "      <td>13-2011</td>\n",
       "      <td>H-1B</td>\n",
       "      <td>Year</td>\n",
       "      <td>N</td>\n",
       "      <td>True</td>\n",
       "    </tr>\n",
       "  </tbody>\n",
       "</table>\n",
       "</div>"
      ],
      "text/plain": [
       "   CASE_STATUS FULL_TIME_POSITION H1B_DEPENDENT NAICS_CODE  PREVAILING_WAGE  \\\n",
       "3    CERTIFIED                  Y             N     335314     70413.266200   \n",
       "4    CERTIFIED                  Y             N     522294    103390.078300   \n",
       "7    CERTIFIED                  Y             N     522294     68372.286500   \n",
       "9       DENIED                  N             N     424460        23.962574   \n",
       "11      DENIED                  Y             N     541330    368080.500000   \n",
       "\n",
       "   PW_SOURCE SOC_CODE VISA_CLASS WAGE_UNIT_OF_PAY WILLFUL_VIOLATOR  \\\n",
       "3        OES  17-2072       H-1B             Year                N   \n",
       "4        OES  15-1131       H-1B             Year                N   \n",
       "7        OES  15-2031       H-1B             Year                N   \n",
       "9      Other  13-2011       H-1B             Hour                N   \n",
       "11       DBA  13-2011       H-1B             Year                N   \n",
       "\n",
       "    WAGE_LOWER_THAN_PW  \n",
       "3                False  \n",
       "4                False  \n",
       "7                False  \n",
       "9                False  \n",
       "11                True  "
      ]
     },
     "execution_count": 3,
     "metadata": {},
     "output_type": "execute_result"
    }
   ],
   "source": [
    "# df['NAICS_CODE'] = df['NAICS_CODE'].apply(lambda x : x[:4])\n",
    "# df['SOC_CODE'] = df['SOC_CODE'].apply(lambda x : x[:4])\n",
    "df.head()"
   ]
  },
  {
   "cell_type": "markdown",
   "metadata": {},
   "source": [
    "We will use column 'CASE_STATUS' as our label.  DENIED will be 1 and CERTIFIED will be 0 after it gets incoded by label_encoder.\n",
    "\n",
    "Normalize PREVAILING_WAGE using minmax scaler since it varies quite a bit."
   ]
  },
  {
   "cell_type": "code",
   "execution_count": 4,
   "metadata": {},
   "outputs": [],
   "source": [
    "scaler = MinMaxScaler()\n",
    "X = df.drop(columns='CASE_STATUS')\n",
    "\n",
    "label_encoder = LabelEncoder()\n",
    "y = label_encoder.fit_transform(df['CASE_STATUS'])\n",
    "\n",
    "X[['PREVAILING_WAGE']] = scaler.fit_transform(X[['PREVAILING_WAGE']])\n",
    "X = pd.get_dummies(X)"
   ]
  },
  {
   "cell_type": "code",
   "execution_count": 5,
   "metadata": {},
   "outputs": [],
   "source": [
    "X_train, X_test, y_train, y_test = train_test_split(X, y, stratify=y, test_size=0.2)"
   ]
  },
  {
   "cell_type": "markdown",
   "metadata": {},
   "source": [
    "Check value counts to verify stratify split"
   ]
  },
  {
   "cell_type": "code",
   "execution_count": 6,
   "metadata": {},
   "outputs": [
    {
     "data": {
      "text/html": [
       "<div>\n",
       "<style scoped>\n",
       "    .dataframe tbody tr th:only-of-type {\n",
       "        vertical-align: middle;\n",
       "    }\n",
       "\n",
       "    .dataframe tbody tr th {\n",
       "        vertical-align: top;\n",
       "    }\n",
       "\n",
       "    .dataframe thead th {\n",
       "        text-align: right;\n",
       "    }\n",
       "</style>\n",
       "<table border=\"1\" class=\"dataframe\">\n",
       "  <thead>\n",
       "    <tr style=\"text-align: right;\">\n",
       "      <th></th>\n",
       "      <th>PREVAILING_WAGE</th>\n",
       "      <th>WAGE_LOWER_THAN_PW</th>\n",
       "      <th>FULL_TIME_POSITION_N</th>\n",
       "      <th>FULL_TIME_POSITION_Y</th>\n",
       "      <th>H1B_DEPENDENT_N</th>\n",
       "      <th>H1B_DEPENDENT_Y</th>\n",
       "      <th>NAICS_CODE_106888</th>\n",
       "      <th>NAICS_CODE_11 MM ACRES ENERGY, LLC</th>\n",
       "      <th>NAICS_CODE_111100</th>\n",
       "      <th>NAICS_CODE_11111</th>\n",
       "      <th>...</th>\n",
       "      <th>VISA_CLASS_H-1B</th>\n",
       "      <th>VISA_CLASS_H-1B1 Chile</th>\n",
       "      <th>VISA_CLASS_H-1B1 Singapore</th>\n",
       "      <th>WAGE_UNIT_OF_PAY_Bi-Weekly</th>\n",
       "      <th>WAGE_UNIT_OF_PAY_Hour</th>\n",
       "      <th>WAGE_UNIT_OF_PAY_Month</th>\n",
       "      <th>WAGE_UNIT_OF_PAY_Week</th>\n",
       "      <th>WAGE_UNIT_OF_PAY_Year</th>\n",
       "      <th>WILLFUL_VIOLATOR_N</th>\n",
       "      <th>WILLFUL_VIOLATOR_Y</th>\n",
       "    </tr>\n",
       "  </thead>\n",
       "  <tbody>\n",
       "    <tr>\n",
       "      <th>182937</th>\n",
       "      <td>0.000108</td>\n",
       "      <td>False</td>\n",
       "      <td>0</td>\n",
       "      <td>1</td>\n",
       "      <td>1</td>\n",
       "      <td>0</td>\n",
       "      <td>0</td>\n",
       "      <td>0</td>\n",
       "      <td>0</td>\n",
       "      <td>0</td>\n",
       "      <td>...</td>\n",
       "      <td>1</td>\n",
       "      <td>0</td>\n",
       "      <td>0</td>\n",
       "      <td>0</td>\n",
       "      <td>0</td>\n",
       "      <td>0</td>\n",
       "      <td>0</td>\n",
       "      <td>1</td>\n",
       "      <td>1</td>\n",
       "      <td>0</td>\n",
       "    </tr>\n",
       "    <tr>\n",
       "      <th>426817</th>\n",
       "      <td>0.000075</td>\n",
       "      <td>False</td>\n",
       "      <td>0</td>\n",
       "      <td>1</td>\n",
       "      <td>1</td>\n",
       "      <td>0</td>\n",
       "      <td>0</td>\n",
       "      <td>0</td>\n",
       "      <td>0</td>\n",
       "      <td>0</td>\n",
       "      <td>...</td>\n",
       "      <td>1</td>\n",
       "      <td>0</td>\n",
       "      <td>0</td>\n",
       "      <td>0</td>\n",
       "      <td>0</td>\n",
       "      <td>0</td>\n",
       "      <td>0</td>\n",
       "      <td>1</td>\n",
       "      <td>1</td>\n",
       "      <td>0</td>\n",
       "    </tr>\n",
       "    <tr>\n",
       "      <th>276725</th>\n",
       "      <td>0.000107</td>\n",
       "      <td>False</td>\n",
       "      <td>0</td>\n",
       "      <td>1</td>\n",
       "      <td>1</td>\n",
       "      <td>0</td>\n",
       "      <td>0</td>\n",
       "      <td>0</td>\n",
       "      <td>0</td>\n",
       "      <td>0</td>\n",
       "      <td>...</td>\n",
       "      <td>1</td>\n",
       "      <td>0</td>\n",
       "      <td>0</td>\n",
       "      <td>0</td>\n",
       "      <td>0</td>\n",
       "      <td>0</td>\n",
       "      <td>0</td>\n",
       "      <td>1</td>\n",
       "      <td>1</td>\n",
       "      <td>0</td>\n",
       "    </tr>\n",
       "    <tr>\n",
       "      <th>2606</th>\n",
       "      <td>0.000068</td>\n",
       "      <td>False</td>\n",
       "      <td>0</td>\n",
       "      <td>1</td>\n",
       "      <td>1</td>\n",
       "      <td>0</td>\n",
       "      <td>0</td>\n",
       "      <td>0</td>\n",
       "      <td>0</td>\n",
       "      <td>0</td>\n",
       "      <td>...</td>\n",
       "      <td>1</td>\n",
       "      <td>0</td>\n",
       "      <td>0</td>\n",
       "      <td>0</td>\n",
       "      <td>0</td>\n",
       "      <td>0</td>\n",
       "      <td>0</td>\n",
       "      <td>1</td>\n",
       "      <td>1</td>\n",
       "      <td>0</td>\n",
       "    </tr>\n",
       "    <tr>\n",
       "      <th>540560</th>\n",
       "      <td>0.000047</td>\n",
       "      <td>False</td>\n",
       "      <td>0</td>\n",
       "      <td>1</td>\n",
       "      <td>1</td>\n",
       "      <td>0</td>\n",
       "      <td>0</td>\n",
       "      <td>0</td>\n",
       "      <td>0</td>\n",
       "      <td>0</td>\n",
       "      <td>...</td>\n",
       "      <td>1</td>\n",
       "      <td>0</td>\n",
       "      <td>0</td>\n",
       "      <td>0</td>\n",
       "      <td>0</td>\n",
       "      <td>0</td>\n",
       "      <td>0</td>\n",
       "      <td>1</td>\n",
       "      <td>1</td>\n",
       "      <td>0</td>\n",
       "    </tr>\n",
       "  </tbody>\n",
       "</table>\n",
       "<p>5 rows × 5370 columns</p>\n",
       "</div>"
      ],
      "text/plain": [
       "        PREVAILING_WAGE  WAGE_LOWER_THAN_PW  FULL_TIME_POSITION_N  \\\n",
       "182937         0.000108               False                     0   \n",
       "426817         0.000075               False                     0   \n",
       "276725         0.000107               False                     0   \n",
       "2606           0.000068               False                     0   \n",
       "540560         0.000047               False                     0   \n",
       "\n",
       "        FULL_TIME_POSITION_Y  H1B_DEPENDENT_N  H1B_DEPENDENT_Y  \\\n",
       "182937                     1                1                0   \n",
       "426817                     1                1                0   \n",
       "276725                     1                1                0   \n",
       "2606                       1                1                0   \n",
       "540560                     1                1                0   \n",
       "\n",
       "        NAICS_CODE_106888  NAICS_CODE_11 MM ACRES ENERGY, LLC  \\\n",
       "182937                  0                                   0   \n",
       "426817                  0                                   0   \n",
       "276725                  0                                   0   \n",
       "2606                    0                                   0   \n",
       "540560                  0                                   0   \n",
       "\n",
       "        NAICS_CODE_111100  NAICS_CODE_11111         ...          \\\n",
       "182937                  0                 0         ...           \n",
       "426817                  0                 0         ...           \n",
       "276725                  0                 0         ...           \n",
       "2606                    0                 0         ...           \n",
       "540560                  0                 0         ...           \n",
       "\n",
       "        VISA_CLASS_H-1B  VISA_CLASS_H-1B1 Chile  VISA_CLASS_H-1B1 Singapore  \\\n",
       "182937                1                       0                           0   \n",
       "426817                1                       0                           0   \n",
       "276725                1                       0                           0   \n",
       "2606                  1                       0                           0   \n",
       "540560                1                       0                           0   \n",
       "\n",
       "        WAGE_UNIT_OF_PAY_Bi-Weekly  WAGE_UNIT_OF_PAY_Hour  \\\n",
       "182937                           0                      0   \n",
       "426817                           0                      0   \n",
       "276725                           0                      0   \n",
       "2606                             0                      0   \n",
       "540560                           0                      0   \n",
       "\n",
       "        WAGE_UNIT_OF_PAY_Month  WAGE_UNIT_OF_PAY_Week  WAGE_UNIT_OF_PAY_Year  \\\n",
       "182937                       0                      0                      1   \n",
       "426817                       0                      0                      1   \n",
       "276725                       0                      0                      1   \n",
       "2606                         0                      0                      1   \n",
       "540560                       0                      0                      1   \n",
       "\n",
       "        WILLFUL_VIOLATOR_N  WILLFUL_VIOLATOR_Y  \n",
       "182937                   1                   0  \n",
       "426817                   1                   0  \n",
       "276725                   1                   0  \n",
       "2606                     1                   0  \n",
       "540560                   1                   0  \n",
       "\n",
       "[5 rows x 5370 columns]"
      ]
     },
     "execution_count": 6,
     "metadata": {},
     "output_type": "execute_result"
    }
   ],
   "source": [
    "X_train.head()"
   ]
  },
  {
   "cell_type": "markdown",
   "metadata": {},
   "source": [
    "Train XGBClassifier and predict using X_test"
   ]
  },
  {
   "cell_type": "code",
   "execution_count": 7,
   "metadata": {},
   "outputs": [
    {
     "name": "stderr",
     "output_type": "stream",
     "text": [
      "/Users/ml/ml_env/lib/python2.7/site-packages/sklearn/preprocessing/label.py:151: DeprecationWarning: The truth value of an empty array is ambiguous. Returning False, but in future this will result in an error. Use `array.size > 0` to check that an array is not empty.\n",
      "  if diff:\n"
     ]
    },
    {
     "name": "stdout",
     "output_type": "stream",
     "text": [
      "0.9815855068571223\n"
     ]
    },
    {
     "name": "stderr",
     "output_type": "stream",
     "text": [
      "/Users/ml/ml_env/lib/python2.7/site-packages/sklearn/preprocessing/label.py:151: DeprecationWarning: The truth value of an empty array is ambiguous. Returning False, but in future this will result in an error. Use `array.size > 0` to check that an array is not empty.\n",
      "  if diff:\n"
     ]
    },
    {
     "name": "stdout",
     "output_type": "stream",
     "text": [
      "[0 0 0 ... 0 0 0]\n"
     ]
    }
   ],
   "source": [
    "from xgboost import XGBClassifier\n",
    "xgb = XGBClassifier(random_state=99)\n",
    "\n",
    "xgb.fit(X_train, y_train)\n",
    "# print(xgb.feature_importances_)\n",
    "print(xgb.score(X_test, y_test))\n",
    "xgb_pred = xgb.predict(X_test)\n",
    "print(xgb_pred)\n",
    "# for i in range(len(y_hat)):\n",
    "#     if y_test[i]==1:\n",
    "#         print(\"{}:: {}\".format(y_test[i],y_hat[i]))"
   ]
  },
  {
   "cell_type": "markdown",
   "metadata": {},
   "source": [
    "Train ADABOOST classifier and predict using X_test"
   ]
  },
  {
   "cell_type": "code",
   "execution_count": 8,
   "metadata": {},
   "outputs": [
    {
     "name": "stderr",
     "output_type": "stream",
     "text": [
      "/Users/ml/ml_env/lib/python2.7/site-packages/sklearn/ensemble/weight_boosting.py:29: DeprecationWarning: numpy.core.umath_tests is an internal NumPy module and should not be imported. It will be removed in a future NumPy release.\n",
      "  from numpy.core.umath_tests import inner1d\n"
     ]
    }
   ],
   "source": [
    "from sklearn.ensemble import AdaBoostClassifier\n",
    "# from sklearn.feature_extraction.text import CountVectorizer\n",
    "\n",
    "abc = AdaBoostClassifier(random_state=99)\n",
    "# vec = CountVectorizer()\n",
    "# X_train_t = vec.fit_transform(X_train)\n",
    "\n",
    "abc.fit(X_train, y_train)\n",
    "\n",
    "abc_pred = abc.predict(X_test)"
   ]
  },
  {
   "cell_type": "code",
   "execution_count": 9,
   "metadata": {},
   "outputs": [
    {
     "name": "stdout",
     "output_type": "stream",
     "text": [
      "** XGB Classifier Stats (OVERALL testset)\n",
      "             precision    recall  f1-score   support\n",
      "\n",
      "          0       0.98      1.00      0.99    297848\n",
      "          1       0.91      0.27      0.42      7455\n",
      "\n",
      "avg / total       0.98      0.98      0.98    305303\n",
      "\n",
      "** ADABOOST Classifier Stats (OVERALL testset)\n",
      "             precision    recall  f1-score   support\n",
      "\n",
      "          0       0.98      1.00      0.99    297848\n",
      "          1       0.88      0.28      0.42      7455\n",
      "\n",
      "avg / total       0.98      0.98      0.98    305303\n",
      "\n"
     ]
    }
   ],
   "source": [
    "from sklearn.metrics import classification_report, confusion_matrix\n",
    "print(\"** XGB Classifier Stats (OVERALL testset)\")\n",
    "print(classification_report(y_test, xgb_pred))\n",
    "\n",
    "print(\"** ADABOOST Classifier Stats (OVERALL testset)\")\n",
    "print(classification_report(y_test, abc_pred))"
   ]
  },
  {
   "cell_type": "markdown",
   "metadata": {},
   "source": [
    "Output the feature importance vector and sort by importance"
   ]
  },
  {
   "cell_type": "code",
   "execution_count": 20,
   "metadata": {},
   "outputs": [
    {
     "name": "stdout",
     "output_type": "stream",
     "text": [
      "(u'PREVAILING_WAGE', 0.06)\n",
      "('NAICS_CODE_541511', 0.06)\n",
      "(u'H1B_DEPENDENT_N', 0.04)\n",
      "('SOC_CODE_15-2031', 0.02)\n",
      "('NAICS_CODE_334111', 0.02)\n",
      "('NAICS_CODE_541211', 0.02)\n",
      "('NAICS_CODE_51121', 0.02)\n",
      "('NAICS_CODE_541330', 0.02)\n",
      "(u'WAGE_UNIT_OF_PAY_Year', 0.02)\n",
      "('WAGE_LOWER_THAN_PW', 0.02)\n",
      "('NAICS_CODE_611310', 0.02)\n",
      "(u'NAICS_CODE_CAPGEMINI AMERICA INC', 0.02)\n",
      "('NAICS_CODE_522110', 0.02)\n",
      "('NAICS_CODE_54121', 0.02)\n",
      "(u'PW_SOURCE_SCA', 0.02)\n",
      "('SOC_CODE_15-1199', 0.02)\n",
      "('SOC_CODE_19-1042', 0.02)\n",
      "('NAICS_CODE_518112', 0.02)\n",
      "('SOC_CODE_23-2011', 0.02)\n",
      "('NAICS_CODE_336111', 0.02)\n",
      "('NAICS_CODE_561310', 0.02)\n",
      "('NAICS_CODE_54151', 0.02)\n",
      "(u'H1B_DEPENDENT_Y', 0.02)\n",
      "('NAICS_CODE_551112', 0.02)\n",
      "(u'FULL_TIME_POSITION_N', 0.02)\n",
      "(u'NAICS_CODE_ACCENTURE LLP', 0.02)\n",
      "('SOC_CODE_15-1133', 0.02)\n",
      "('SOC_CODE_15-1132', 0.02)\n",
      "('NAICS_CODE_541611', 0.02)\n",
      "('NAICS_CODE_454111', 0.02)\n",
      "(u'PW_SOURCE_OES', 0.02)\n",
      "('NAICS_CODE_541690', 0.02)\n",
      "('NAICS_CODE_541512', 0.02)\n",
      "('NAICS_CODE_523110', 0.02)\n",
      "('NAICS_CODE_452112', 0.02)\n",
      "('NAICS_CODE_522210', 0.02)\n",
      "('NAICS_CODE_54161', 0.02)\n",
      "('NAICS_CODE_561320', 0.02)\n",
      "(u'VISA_CLASS_H-1B', 0.02)\n",
      "('SOC_CODE_19-1029', 0.02)\n",
      "('SOC_CODE_13-1199', 0.02)\n",
      "(u'PW_SOURCE_CBA', 0.02)\n",
      "(u'WAGE_UNIT_OF_PAY_Month', 0.02)\n",
      "('SOC_CODE_15-2041', 0.02)\n",
      "('SOC_CODE_15-1121', 0.02)\n"
     ]
    }
   ],
   "source": [
    "import operator\n",
    "import pickle\n",
    "\n",
    "\n",
    "# print(len(abc.feature_importances_))\n",
    "# print(len(X_train.columns))\n",
    "\n",
    "nonzero_features = {}\n",
    "for i in range(len(abc.feature_importances_)):\n",
    "    if abc.feature_importances_[i] > 0.0:\n",
    "        nonzero_features[list(X_train.columns)[i]] = abc.feature_importances_[i]\n",
    "sorted_result = sorted(nonzero_features.items(), key=operator.itemgetter(1)) \n",
    "for i in range(len(sorted_result)):\n",
    "    print(sorted_result[-(i+1)])\n",
    "with open('/tmp/feature_importances_first_800k_abc.pickle', 'wb') as f:\n",
    "    pickle.dump(sorted_result, f, protocol=pickle.HIGHEST_PROTOCOL)\n",
    "with open('/tmp/feature_importances_first_800k_abc_dict.pickle', 'wb') as f:\n",
    "    pickle.dump(nonzero_features, f, protocol=pickle.HIGHEST_PROTOCOL)"
   ]
  },
  {
   "cell_type": "code",
   "execution_count": 23,
   "metadata": {},
   "outputs": [
    {
     "name": "stdout",
     "output_type": "stream",
     "text": [
      "(u'PREVAILING_WAGE', 0.26283988)\n",
      "('WAGE_LOWER_THAN_PW', 0.101208456)\n",
      "(u'H1B_DEPENDENT_N', 0.061933536)\n",
      "(u'WAGE_UNIT_OF_PAY_Year', 0.05287009)\n",
      "(u'PW_SOURCE_OES', 0.049848944)\n",
      "(u'VISA_CLASS_H-1B', 0.049848944)\n",
      "('NAICS_CODE_541511', 0.04531722)\n",
      "('NAICS_CODE_611310', 0.025679758)\n",
      "(u'NAICS_CODE_CAPGEMINI AMERICA INC', 0.024169184)\n",
      "(u'VISA_CLASS_E-3 Australian', 0.021148037)\n",
      "(u'PW_SOURCE_Other', 0.019637462)\n",
      "(u'FULL_TIME_POSITION_N', 0.018126888)\n",
      "('SOC_CODE_15-1131', 0.018126888)\n",
      "('SOC_CODE_15-1132', 0.016616315)\n",
      "('NAICS_CODE_541310', 0.01510574)\n",
      "('SOC_CODE_17-1011', 0.013595167)\n",
      "('NAICS_CODE_334111', 0.010574019)\n",
      "('NAICS_CODE_54151', 0.010574019)\n",
      "('NAICS_CODE_541512', 0.010574019)\n",
      "(u'PW_SOURCE_SCA', 0.009063444)\n",
      "(u'NAICS_CODE_ACCENTURE LLP', 0.009063444)\n",
      "('NAICS_CODE_51121', 0.00755287)\n",
      "(u'WAGE_UNIT_OF_PAY_Month', 0.006042296)\n",
      "('SOC_CODE_15-1199', 0.006042296)\n",
      "('SOC_CODE_29-1131', 0.006042296)\n",
      "('NAICS_CODE_561310', 0.006042296)\n",
      "(u'PW_SOURCE_DBA', 0.006042296)\n",
      "('SOC_CODE_15-1133', 0.006042296)\n",
      "('SOC_CODE_15-1134', 0.006042296)\n",
      "(u'WAGE_UNIT_OF_PAY_Week', 0.006042296)\n",
      "('SOC_CODE_11-1011', 0.004531722)\n",
      "(u'WAGE_UNIT_OF_PAY_Hour', 0.004531722)\n",
      "('SOC_CODE_15-2041', 0.004531722)\n",
      "('NAICS_CODE_523110', 0.004531722)\n",
      "(u'WAGE_UNIT_OF_PAY_Bi-Weekly', 0.004531722)\n",
      "('SOC_CODE_15-1121', 0.004531722)\n",
      "('SOC_CODE_15-2031', 0.003021148)\n",
      "('SOC_CODE_29-1069', 0.003021148)\n",
      "('SOC_CODE_23-1011', 0.003021148)\n",
      "('NAICS_CODE_541330', 0.003021148)\n",
      "('SOC_CODE_19-1042', 0.003021148)\n",
      "('NAICS_CODE_523920', 0.003021148)\n",
      "('SOC_CODE_23-2011', 0.003021148)\n",
      "('SOC_CODE_11-2021', 0.003021148)\n",
      "('NAICS_CODE_611110', 0.003021148)\n",
      "('NAICS_CODE_611210', 0.003021148)\n",
      "('SOC_CODE_11-1021', 0.003021148)\n",
      "('NAICS_CODE_334220', 0.003021148)\n",
      "('NAICS_CODE_54161', 0.003021148)\n",
      "('SOC_CODE_13-1199', 0.003021148)\n",
      "('SOC_CODE_29-2011', 0.003021148)\n",
      "(u'PW_SOURCE_CBA', 0.003021148)\n",
      "('NAICS_CODE_334413', 0.003021148)\n",
      "('NAICS_CODE_541211', 0.001510574)\n",
      "('SOC_CODE_17-2112', 0.001510574)\n",
      "('NAICS_CODE_54111', 0.001510574)\n",
      "('SOC_CODE_35-1011', 0.001510574)\n",
      "('NAICS_CODE_454111', 0.001510574)\n",
      "('SOC_CODE_17-2141', 0.001510574)\n",
      "('NAICS_CODE_54194', 0.001510574)\n",
      "('SOC_CODE_25-3099', 0.001510574)\n",
      "('NAICS_CODE_541110', 0.001510574)\n",
      "('NAICS_CODE_622110', 0.001510574)\n",
      "('SOC_CODE_11-3011', 0.001510574)\n",
      "('SOC_CODE_19-1029', 0.001510574)\n",
      "('NAICS_CODE_62211', 0.001510574)\n"
     ]
    }
   ],
   "source": [
    "nonzero_features = {}\n",
    "for i in range(len(xgb.feature_importances_)):\n",
    "    if xgb.feature_importances_[i] > 0.0:\n",
    "        nonzero_features[list(X_train.columns)[i]] = xgb.feature_importances_[i]\n",
    "sorted_result = sorted(nonzero_features.items(), key=operator.itemgetter(1)) \n",
    "for i in range(len(sorted_result)):\n",
    "    print(sorted_result[-(i+1)])\n",
    "\n",
    "with open('/tmp/feature_importances_first_800k_abc.pickle', 'wb') as f:\n",
    "    pickle.dump(sorted_result, f, protocol=pickle.HIGHEST_PROTOCOL)\n",
    "with open('/tmp/feature_importances_first_800k_abc_dict.pickle', 'wb') as f:\n",
    "    pickle.dump(nonzero_features, f, protocol=pickle.HIGHEST_PROTOCOL)"
   ]
  },
  {
   "cell_type": "markdown",
   "metadata": {},
   "source": [
    "Output the trained model to a pickle file in case we need it in the future"
   ]
  },
  {
   "cell_type": "code",
   "execution_count": 19,
   "metadata": {},
   "outputs": [],
   "source": [
    "from sklearn.externals import joblib\n",
    "import cPickle\n",
    "joblib.dump(abc, 'abc.pkl', compress=9)\n",
    "joblib.dump(xgb, 'xgb.pkl', compress=9)\n",
    "\n",
    "# import cPickle\n",
    "with open('abc_cpickle.pkl', 'wb') as pkl:\n",
    "    cPickle.dump(abc, pkl)\n",
    "with open('xgb_cpickle.pkl', 'wb') as pkl:\n",
    "    cPickle.dump(xgb, pkl)    "
   ]
  },
  {
   "cell_type": "markdown",
   "metadata": {},
   "source": [
    "To load the pre-trained model, run the cell below."
   ]
  },
  {
   "cell_type": "code",
   "execution_count": 124,
   "metadata": {},
   "outputs": [],
   "source": [
    "abc = joblib.load('abc.pkl')\n",
    "xgb = joblib.load('xgb.pkl')\n",
    "\n",
    "# with open('abc_cpickle.pkl', 'rb') as pkl:\n",
    "#     abc = cPickle.load(pkl)\n",
    "# with open('xgb_cpickle.pkl', 'rb') as pkl:\n",
    "#     xgb = cPickle.load(pkl)"
   ]
  },
  {
   "cell_type": "markdown",
   "metadata": {},
   "source": [
    "Evaluate stats for the entire test set"
   ]
  },
  {
   "cell_type": "code",
   "execution_count": 11,
   "metadata": {},
   "outputs": [
    {
     "name": "stdout",
     "output_type": "stream",
     "text": [
      "** XGB Classifier Scores (OVERALL testset)\n",
      "Precision: 0.9137697516930022\n",
      "Recall: 0.271495640509725\n",
      "Accuracy score: 0.9815855068571223\n",
      "F-1 score: 0.41861427094105486\n",
      "F-beta score with beta=0.5: 0.6202880784554091\n",
      "F-beta score with beta=0.2: 0.8375616743593823\n",
      "Confusion Matrix: \n",
      "[[297657    191]\n",
      " [  5431   2024]]\n",
      "\n",
      "\n",
      "** AB Classifier Scores (OVERALL testset)\n",
      "Precision: 0.8811668811668811\n",
      "Recall: 0.2755197853789403\n",
      "Accuracy score: 0.9814020825212985\n",
      "F-1 score: 0.4197833639893726\n",
      "F-beta score with beta=0.5: 0.6120746170808748\n",
      "F-beta score with beta=0.2: 0.8124752776509964\n",
      "Confusion Matrix: \n",
      "[[297571    277]\n",
      " [  5401   2054]]\n"
     ]
    }
   ],
   "source": [
    "from sklearn.metrics import precision_score, recall_score, f1_score, fbeta_score, accuracy_score, confusion_matrix\n",
    "# print(abc_pred)\n",
    "\n",
    "print(\"** XGB Classifier Scores (OVERALL testset)\")\n",
    "print(\"Precision: %s\" % precision_score(y_test, xgb_pred))\n",
    "print(\"Recall: %s\"% recall_score(y_test, xgb_pred))\n",
    "print(\"Accuracy score: %s\"% accuracy_score(y_test, xgb_pred))\n",
    "print(\"F-1 score: %s\"% f1_score(y_test, xgb_pred))\n",
    "print(\"F-beta score with beta=0.5: %s\"% fbeta_score(y_test, xgb_pred, beta=0.5))\n",
    "print(\"F-beta score with beta=0.2: %s\"% fbeta_score(y_test, xgb_pred, beta=0.2))\n",
    "print(\"Confusion Matrix: \\n%s\"% confusion_matrix(y_test, xgb_pred))\n",
    "print(\"\\n\")\n",
    "print(\"** AB Classifier Scores (OVERALL testset)\")\n",
    "print(\"Precision: %s\"% precision_score(y_test, abc_pred))\n",
    "print(\"Recall: %s\"% recall_score(y_test, abc_pred))\n",
    "print(\"Accuracy score: %s\"% accuracy_score(y_test, abc_pred))\n",
    "print(\"F-1 score: %s\"% f1_score(y_test, abc_pred))\n",
    "print(\"F-beta score with beta=0.5: %s\"% fbeta_score(y_test, abc_pred, beta=0.5))\n",
    "print(\"F-beta score with beta=0.2: %s\"% fbeta_score(y_test, abc_pred, beta=0.2))\n",
    "print(\"Confusion Matrix: \\n%s\"% confusion_matrix(y_test, abc_pred))"
   ]
  },
  {
   "cell_type": "code",
   "execution_count": 12,
   "metadata": {},
   "outputs": [
    {
     "name": "stderr",
     "output_type": "stream",
     "text": [
      "/Users/ml/ml_env/lib/python2.7/site-packages/sklearn/preprocessing/label.py:151: DeprecationWarning: The truth value of an empty array is ambiguous. Returning False, but in future this will result in an error. Use `array.size > 0` to check that an array is not empty.\n",
      "  if diff:\n"
     ]
    }
   ],
   "source": [
    "import numpy as np\n",
    "ones_index = y_test.nonzero()\n",
    "x_ones = X_test.iloc[ones_index]\n",
    "y_ones = np.take(y_test, ones_index)[0]\n",
    "\n",
    "xgb_pred_oneonly = xgb.predict(x_ones)\n",
    "abc_pred_oneonly = abc.predict(x_ones)"
   ]
  },
  {
   "cell_type": "markdown",
   "metadata": {},
   "source": [
    "Evaluate stats for testset with label 1 (DENIED cases only)"
   ]
  },
  {
   "cell_type": "code",
   "execution_count": 13,
   "metadata": {},
   "outputs": [
    {
     "name": "stdout",
     "output_type": "stream",
     "text": [
      "** XGB Classifier Scores (Only rows with label DENIED->1)\n",
      "Precision: 1.0\n",
      "Recall: 0.271495640509725\n",
      "Accuracy score: 0.271495640509725\n",
      "F-1 score: 0.42704926680029537\n",
      "F-beta score with beta=0.5: 0.6507620088740274\n",
      "F-beta score with beta=0.2: 0.9064507794332961\n",
      "Confusion Matrix: \n",
      "[[   0    0]\n",
      " [5431 2024]]\n",
      "\n",
      "\n",
      "** AB Classifier Scores (Only rows with label DENIED->1)\n",
      "Precision: 1.0\n",
      "Recall: 0.2755197853789403\n",
      "Accuracy score: 0.2755197853789403\n",
      "F-1 score: 0.43201177831528026\n",
      "F-beta score with beta=0.5: 0.6553506476931912\n",
      "F-beta score with beta=0.2: 0.9081540685315873\n",
      "Confusion Matrix: \n",
      "[[   0    0]\n",
      " [5401 2054]]\n"
     ]
    }
   ],
   "source": [
    "print(\"** XGB Classifier Scores (Only rows with label DENIED->1)\")\n",
    "print(\"Precision: %s\" % precision_score(y_ones, xgb_pred_oneonly))\n",
    "print(\"Recall: %s\"% recall_score(y_ones, xgb_pred_oneonly))\n",
    "print(\"Accuracy score: %s\"% accuracy_score(y_ones, xgb_pred_oneonly))\n",
    "print(\"F-1 score: %s\"% f1_score(y_ones, xgb_pred_oneonly))\n",
    "print(\"F-beta score with beta=0.5: %s\"% fbeta_score(y_ones, xgb_pred_oneonly, beta=0.5))\n",
    "print(\"F-beta score with beta=0.2: %s\"% fbeta_score(y_ones, xgb_pred_oneonly, beta=0.2))\n",
    "print(\"Confusion Matrix: \\n%s\"% confusion_matrix(y_ones, xgb_pred_oneonly))\n",
    "print(\"\\n\")\n",
    "print(\"** AB Classifier Scores (Only rows with label DENIED->1)\")\n",
    "print(\"Precision: %s\"% precision_score(y_ones, abc_pred_oneonly))\n",
    "print(\"Recall: %s\"% recall_score(y_ones, abc_pred_oneonly))\n",
    "print(\"Accuracy score: %s\"% accuracy_score(y_ones, abc_pred_oneonly))\n",
    "print(\"F-1 score: %s\"% f1_score(y_ones, abc_pred_oneonly))\n",
    "print(\"F-beta score with beta=0.5: %s\"% fbeta_score(y_ones, abc_pred_oneonly, beta=0.5))\n",
    "print(\"F-beta score with beta=0.2: %s\"% fbeta_score(y_ones, abc_pred_oneonly, beta=0.2))\n",
    "print(\"Confusion Matrix: \\n%s\"% confusion_matrix(y_ones, abc_pred_oneonly))"
   ]
  },
  {
   "cell_type": "code",
   "execution_count": 14,
   "metadata": {},
   "outputs": [
    {
     "name": "stderr",
     "output_type": "stream",
     "text": [
      "/Users/ml/ml_env/lib/python2.7/site-packages/sklearn/preprocessing/label.py:151: DeprecationWarning: The truth value of an empty array is ambiguous. Returning False, but in future this will result in an error. Use `array.size > 0` to check that an array is not empty.\n",
      "  if diff:\n"
     ]
    }
   ],
   "source": [
    "zeros_index = np.arange(len(y_test))[(y_test==0)]\n",
    "\n",
    "x_zeros = X_test.iloc[zeros_index]\n",
    "y_zeros = np.take(y_test, zeros_index)\n",
    "xgb_pred_zeroonly = xgb.predict(x_zeros)\n",
    "abc_pred_zeroonly = abc.predict(x_zeros)"
   ]
  },
  {
   "cell_type": "markdown",
   "metadata": {},
   "source": [
    "\n",
    "Evaluate stats for testset with label 0 (CERTIFIED cases only)\n"
   ]
  },
  {
   "cell_type": "code",
   "execution_count": 15,
   "metadata": {},
   "outputs": [
    {
     "name": "stdout",
     "output_type": "stream",
     "text": [
      "** XGB Classifier Scores (Only rows with label CERTIFIED->0)\n",
      "Precision: 0.0\n",
      "Recall: 0.0\n",
      "Accuracy score: 0.9993587333136364\n",
      "F-1 score: 0.0\n",
      "F-beta score with beta=0.5: 0.0\n"
     ]
    },
    {
     "name": "stderr",
     "output_type": "stream",
     "text": [
      "/Users/ml/ml_env/lib/python2.7/site-packages/sklearn/metrics/classification.py:1137: UndefinedMetricWarning: Recall is ill-defined and being set to 0.0 due to no true samples.\n",
      "  'recall', 'true', average, warn_for)\n",
      "/Users/ml/ml_env/lib/python2.7/site-packages/sklearn/metrics/classification.py:1137: UndefinedMetricWarning: F-score is ill-defined and being set to 0.0 due to no true samples.\n",
      "  'recall', 'true', average, warn_for)\n"
     ]
    },
    {
     "name": "stdout",
     "output_type": "stream",
     "text": [
      "F-beta score with beta=0.2: 0.0\n",
      "Confusion Matrix: \n",
      "[[297571    277]\n",
      " [     0      0]]\n",
      "\n",
      "\n",
      "** AB Classifier Scores (Only rows with label CERTIFIED->0)\n",
      "Precision: 0.0\n",
      "Recall: 0.0\n",
      "Accuracy score: 0.9990699954339126\n",
      "F-1 score: 0.0\n",
      "F-beta score with beta=0.5: 0.0\n",
      "F-beta score with beta=0.2: 0.0\n",
      "Confusion Matrix: \n",
      "[[297571    277]\n",
      " [     0      0]]\n"
     ]
    }
   ],
   "source": [
    "print(\"** XGB Classifier Scores (Only rows with label CERTIFIED->0)\")\n",
    "print(\"Precision: %s\" % precision_score(y_zeros, xgb_pred_zeroonly))\n",
    "print(\"Recall: %s\"% recall_score(y_zeros, xgb_pred_zeroonly))\n",
    "print(\"Accuracy score: %s\"% accuracy_score(y_zeros, xgb_pred_zeroonly))\n",
    "print(\"F-1 score: %s\"% f1_score(y_zeros, xgb_pred_zeroonly))\n",
    "print(\"F-beta score with beta=0.5: %s\"% fbeta_score(y_zeros, xgb_pred_zeroonly, beta=0.5))\n",
    "print(\"F-beta score with beta=0.2: %s\"% fbeta_score(y_zeros, xgb_pred_zeroonly, beta=0.2))\n",
    "print(\"Confusion Matrix: \\n%s\"% confusion_matrix(y_zeros, abc_pred_zeroonly))\n",
    "print(\"\\n\")\n",
    "print(\"** AB Classifier Scores (Only rows with label CERTIFIED->0)\")\n",
    "print(\"Precision: %s\"% precision_score(y_zeros, abc_pred_zeroonly))\n",
    "print(\"Recall: %s\"% recall_score(y_zeros, abc_pred_zeroonly))\n",
    "print(\"Accuracy score: %s\"% accuracy_score(y_zeros, abc_pred_zeroonly))\n",
    "print(\"F-1 score: %s\"% f1_score(y_zeros, abc_pred_zeroonly))\n",
    "print(\"F-beta score with beta=0.5: %s\"% fbeta_score(y_zeros, abc_pred_zeroonly, beta=0.5))\n",
    "print(\"F-beta score with beta=0.2: %s\"% fbeta_score(y_zeros, abc_pred_zeroonly, beta=0.2))\n",
    "print(\"Confusion Matrix: \\n%s\"% confusion_matrix(y_zeros, abc_pred_zeroonly))"
   ]
  },
  {
   "cell_type": "markdown",
   "metadata": {},
   "source": [
    "Show ratio between the two classes in the entire dataset (before split into train and test set)"
   ]
  },
  {
   "cell_type": "code",
   "execution_count": 116,
   "metadata": {},
   "outputs": [
    {
     "name": "stdout",
     "output_type": "stream",
     "text": [
      "                   0  percentage\n",
      "CASE_STATUS                     \n",
      "CERTIFIED    1489240    0.975582\n",
      "DENIED         37274    0.024418\n"
     ]
    }
   ],
   "source": [
    "status_stats = df.groupby('CASE_STATUS').size().to_frame()\n",
    "status_stats['percentage'] = status_stats[0] / status_stats[0].sum()\n",
    "print(status_stats)"
   ]
  }
 ],
 "metadata": {
  "kernelspec": {
   "display_name": "Python 2",
   "language": "python",
   "name": "python2"
  },
  "language_info": {
   "codemirror_mode": {
    "name": "ipython",
    "version": 2
   },
   "file_extension": ".py",
   "mimetype": "text/x-python",
   "name": "python",
   "nbconvert_exporter": "python",
   "pygments_lexer": "ipython2",
   "version": "2.7.10"
  }
 },
 "nbformat": 4,
 "nbformat_minor": 2
}
